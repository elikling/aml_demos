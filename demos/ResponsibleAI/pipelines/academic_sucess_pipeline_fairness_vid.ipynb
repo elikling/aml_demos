{
  "cells": [
    {
      "cell_type": "code",
      "execution_count": 9,
      "id": "e5e00dc5",
      "metadata": {
        "gather": {
          "logged": 1717093619222
        }
      },
      "outputs": [],
      "source": [
        "import os\n",
        "import time\n",
        "from dotenv import load_dotenv\n",
        "\n",
        "import json\n",
        "from azure.ai.ml import Input\n",
        "\n",
        "from azure.ai.ml import MLClient\n",
        "from azure.identity import DefaultAzureCredential\n",
        "\n",
        "from azure.ai.ml import load_component\n",
        "from azure.ai.ml import dsl, Input\n"
      ]
    },
    {
      "cell_type": "code",
      "execution_count": 10,
      "id": "5361bc0d",
      "metadata": {
        "gather": {
          "logged": 1717093619944
        }
      },
      "outputs": [
        {
          "name": "stdout",
          "output_type": "stream",
          "text": [
            "AML_WORKSPACE_NAME: aauki_eli_demos_amlws01\n"
          ]
        }
      ],
      "source": [
        "load_dotenv()\n",
        "SUBSCRIPTION_ID = os.environ.get(\"SUBSCRIPTION_ID\")\n",
        "RESOURCE_GROUP = os.environ.get(\"RESOURCE_GROUP\")\n",
        "AML_WORKSPACE_NAME = os.environ.get(\"AML_WORKSPACE_NAME\")\n",
        "print(\"AML_WORKSPACE_NAME:\", AML_WORKSPACE_NAME)\n",
        "\n",
        "credential = DefaultAzureCredential()\n",
        "ml_client = MLClient(credential=credential, subscription_id=SUBSCRIPTION_ID, resource_group_name=RESOURCE_GROUP, workspace_name=AML_WORKSPACE_NAME, )"
      ]
    },
    {
      "cell_type": "markdown",
      "id": "08984e95",
      "metadata": {},
      "source": [
        "RAI registry"
      ]
    },
    {
      "cell_type": "code",
      "execution_count": 11,
      "id": "f105e9a1",
      "metadata": {
        "gather": {
          "logged": 1717093620946
        }
      },
      "outputs": [
        {
          "name": "stdout",
          "output_type": "stream",
          "text": [
            "MLClient(credential=<azure.identity._credentials.default.DefaultAzureCredential object at 0x7fd25c5dd930>,\n",
            "         subscription_id=6c6683e9-e5fe-4038-8519-ce6ebec2ba15,\n",
            "         resource_group_name=registry-builtin-prod-eastus-01,\n",
            "         workspace_name=None)\n"
          ]
        }
      ],
      "source": [
        "# Get handle to azureml registry for the RAI built in components\n",
        "version_string = \"1\"\n",
        "compute_name = \"rai-cluster\"\n",
        "\n",
        "registry_name = \"azureml\"\n",
        "ml_client_registry = MLClient(\n",
        "    credential=credential,\n",
        "    subscription_id=SUBSCRIPTION_ID,\n",
        "    resource_group_name=RESOURCE_GROUP,\n",
        "    registry_name=registry_name,\n",
        ")\n",
        "print(ml_client_registry)"
      ]
    },
    {
      "cell_type": "code",
      "execution_count": 12,
      "id": "b1efc849",
      "metadata": {
        "gather": {
          "logged": 1717093623013
        }
      },
      "outputs": [
        {
          "name": "stdout",
          "output_type": "stream",
          "text": [
            "The current version of RAI built-in components is: 0.14.0\n"
          ]
        }
      ],
      "source": [
        "label = \"latest\"\n",
        "\n",
        "rai_constructor_component = ml_client_registry.components.get(\n",
        "    name=\"microsoft_azureml_rai_tabular_insight_constructor\", label=label\n",
        ")\n",
        "\n",
        "# We get latest version and use the same version for all components\n",
        "version = rai_constructor_component.version\n",
        "print(\"The current version of RAI built-in components is: \" + version)\n",
        "\n",
        "rai_explanation_component = ml_client_registry.components.get(\n",
        "    name=\"microsoft_azureml_rai_tabular_explanation\", version=version\n",
        ")\n",
        "\n",
        "rai_causal_component = ml_client_registry.components.get(\n",
        "    name=\"microsoft_azureml_rai_tabular_causal\", version=version\n",
        ")\n",
        "\n",
        "rai_counterfactual_component = ml_client_registry.components.get(\n",
        "    name=\"microsoft_azureml_rai_tabular_counterfactual\", version=version\n",
        ")\n",
        "\n",
        "rai_erroranalysis_component = ml_client_registry.components.get(\n",
        "    name=\"microsoft_azureml_rai_tabular_erroranalysis\", version=version\n",
        ")\n",
        "\n",
        "rai_gather_component = ml_client_registry.components.get(\n",
        "    name=\"microsoft_azureml_rai_tabular_insight_gather\", version=version\n",
        ")\n",
        "\n",
        "rai_scorecard_component = ml_client_registry.components.get(\n",
        "    name=\"microsoft_azureml_rai_tabular_score_card\", version=version\n",
        ")"
      ]
    },
    {
      "cell_type": "code",
      "execution_count": 13,
      "id": "3bae879b",
      "metadata": {
        "gather": {
          "logged": 1717093623232
        }
      },
      "outputs": [],
      "source": [
        "model_name_suffix = int(time.time())\n",
        "model_name = \"Academic_sucess_Bianry_classifier\"\n",
        "\n",
        "expected_model_id = f\"{model_name}_{model_name_suffix}:1\"\n",
        "azureml_model_id = f\"azureml:{expected_model_id}\""
      ]
    },
    {
      "cell_type": "code",
      "execution_count": 14,
      "id": "84423999",
      "metadata": {
        "gather": {
          "logged": 1717093623922
        }
      },
      "outputs": [],
      "source": [
        "lgbm_component = load_component(source=\"../components/lgbm/lgbm.yaml\")\n",
        "gradient_boosting_classifier_component = load_component(source=\"../components/GradientBoostingClassifier/GradientBoostingClassifier.yaml\")\n",
        "decision_tree_classifier_component = load_component(source=\"../components/decision_tree_classifier/decision_tree_classifier.yaml\")\n",
        "logistic_regression_component = load_component(source=\"../components/logistic_regression/logistic_regression.yaml\")"
      ]
    },
    {
      "cell_type": "code",
      "execution_count": 15,
      "id": "a17f57bc",
      "metadata": {
        "gather": {
          "logged": 1717093624918
        }
      },
      "outputs": [],
      "source": [
        "target_feature = \"binary_target\"\n",
        "exclude_features = \"Gender\"\n",
        "# \"Gender\" is taken out of the 'categorical_feature' - otherwise the RAI will abort but cannot take it our becuse it will abort\n",
        "# so assing it a constant value in the training set just before model fit - code tested only for one variable\n",
        "categorical_features = json.dumps([\"Marital_status\",\n",
        "                                 \"Daytime_evening_attendance\",\n",
        "                                 \"Scholarship_holder\",\n",
        "                                 \"Displaced\",\n",
        "                                 \"Debtor\",\n",
        "                                 \"Gender\",\n",
        "                                 \"Tuition_fees_up_to_date\",\n",
        "                                 \"International\",\n",
        "                                 \"Daytime_evening_attendance\",\n",
        "                                 \"Educational_special_needs\"])\n",
        "\n",
        "classes_in_target = json.dumps([\"Graduated/Still Enrolled\", \"Dropout\"])\n",
        "#treatment_features = json.dumps([\"Marital_status\", \"Gender\",])\n",
        "\n",
        "train_mltable = Input(\n",
        "    type=\"mltable\",\n",
        "    path=f\"azureml:academic_sucess_train_mltable:17\",\n",
        "    mode=\"download\",\n",
        ")\n",
        "test_mltable = Input(\n",
        "    type=\"mltable\",\n",
        "    path=f\"azureml:academic_sucess_test_mltable:17\",\n",
        "    mode=\"download\",\n",
        ")\n",
        "\n",
        "@dsl.pipeline(\n",
        "    compute=compute_name,\n",
        "    description=\"RAI Academic Sucess Classifier Demo NB\",\n",
        "    experiment_name=f\"{model_name}_{model_name_suffix}\",\n",
        ")\n",
        "def rai_demo_pipeline(target_column_name, exclude_features, training_data, test_data):\n",
        "    \n",
        "    ######\n",
        "    #lgbm#\n",
        "    ######\n",
        "    lgbm_step = lgbm_component(\n",
        "        target_column_name=target_column_name,\n",
        "        training_data=training_data,\n",
        "        test_data=test_data,\n",
        "        exclude_features=exclude_features,\n",
        "        model_base_name=f\"{model_name}_lgbm_{model_name_suffix}\"\n",
        "    )\n",
        "    lgbm_step.set_limits(timeout=3600)\n",
        "\n",
        "    # Initiate the RAIInsights\n",
        "    lgbm_create_rai_job = rai_constructor_component(\n",
        "        title=\"LGBM RAI Dashboard Example\",\n",
        "        task_type=\"classification\",\n",
        "        model_info=f\"{model_name}_lgbm_{model_name_suffix}:1\",\n",
        "        model_input=lgbm_step.outputs.model_output,\n",
        "        train_dataset=training_data,\n",
        "        test_dataset=test_data,\n",
        "        target_column_name=target_column_name,\n",
        "        categorical_column_names=categorical_features,\n",
        "        classes=classes_in_target,\n",
        "        use_model_dependency=True,\n",
        "    )\n",
        "    lgbm_create_rai_job.set_limits(timeout=7200)\n",
        "\n",
        "    # Add error analysis\n",
        "    lgbm_erroranalysis_job = rai_erroranalysis_component(\n",
        "        rai_insights_dashboard=lgbm_create_rai_job.outputs.rai_insights_dashboard,\n",
        "    )\n",
        "    lgbm_erroranalysis_job.set_limits(timeout=7200)\n",
        "\n",
        "    # Combine everything\n",
        "    lgbm_rai_gather_job = rai_gather_component(\n",
        "        constructor=lgbm_create_rai_job.outputs.rai_insights_dashboard,\n",
        "        #insight_1=explain_job.outputs.explanation,\n",
        "        #insight_2=causal_job.outputs.causal,\n",
        "        #insight_3=counterfactual_job.outputs.counterfactual,\n",
        "        insight_4=lgbm_erroranalysis_job.outputs.error_analysis,\n",
        "    )\n",
        "    lgbm_rai_gather_job.set_limits(timeout=7200)\n",
        "\n",
        "    lgbm_rai_gather_job.outputs.dashboard.mode = \"upload\"\n",
        "    lgbm_rai_gather_job.outputs.ux_json.mode = \"upload\"\n",
        "\n",
        "    ####################################\n",
        "    #decision_tree_classifier_component#\n",
        "    ####################################\n",
        "    tree_step = decision_tree_classifier_component(\n",
        "        target_column_name=target_column_name,\n",
        "        training_data=training_data,\n",
        "        test_data=test_data,\n",
        "        exclude_features=exclude_features,\n",
        "        model_base_name=f\"{model_name}_tree_{model_name_suffix}\"\n",
        "    )\n",
        "    tree_step.set_limits(timeout=3600)\n",
        "\n",
        "    # Initiate the RAIInsights\n",
        "    tree_create_rai_job = rai_constructor_component(\n",
        "        title=\"Tree RAI Dashboard Example\",\n",
        "        task_type=\"classification\",\n",
        "        model_info=f\"{model_name}_tree_{model_name_suffix}:1\",\n",
        "        model_input=tree_step.outputs.model_output,\n",
        "        train_dataset=training_data,\n",
        "        test_dataset=test_data,\n",
        "        target_column_name=target_column_name,\n",
        "        categorical_column_names=categorical_features,\n",
        "        classes=classes_in_target,\n",
        "        use_model_dependency=False,\n",
        "    )\n",
        "    tree_create_rai_job.set_limits(timeout=7200)\n",
        "\n",
        "    # Add error analysis\n",
        "    tree_erroranalysis_job = rai_erroranalysis_component(\n",
        "        rai_insights_dashboard=tree_create_rai_job.outputs.rai_insights_dashboard,\n",
        "    )\n",
        "    tree_erroranalysis_job.set_limits(timeout=7200)\n",
        "\n",
        "    # Combine everything\n",
        "    tree_rai_gather_job = rai_gather_component(\n",
        "        constructor=tree_create_rai_job.outputs.rai_insights_dashboard,\n",
        "        #insight_1=explain_job.outputs.explanation,\n",
        "        #insight_2=causal_job.outputs.causal,\n",
        "        #insight_3=counterfactual_job.outputs.counterfactual,\n",
        "        insight_4=tree_erroranalysis_job.outputs.error_analysis,\n",
        "    )\n",
        "    tree_rai_gather_job.set_limits(timeout=7200)\n",
        "\n",
        "    tree_rai_gather_job.outputs.dashboard.mode = \"upload\"\n",
        "    tree_rai_gather_job.outputs.ux_json.mode = \"upload\"\n",
        "\n",
        "    ####################################\n",
        "    # logistic_regression_component    #\n",
        "    ####################################\n",
        "    logistic_regression_step = logistic_regression_component(\n",
        "        target_column_name=target_column_name,\n",
        "        training_data=training_data,\n",
        "        test_data=test_data,\n",
        "        exclude_features=exclude_features,\n",
        "        model_base_name=f\"{model_name}_logistic_regression_{model_name_suffix}\"\n",
        "    )\n",
        "    tree_step.set_limits(timeout=3600)\n",
        "\n",
        "    # Initiate the RAIInsights\n",
        "    logistic_regression_create_rai_job = rai_constructor_component(\n",
        "        title=\"logistic_regression RAI Dashboard Example\",\n",
        "        task_type=\"classification\",\n",
        "        model_info=f\"{model_name}_logistic_regression_{model_name_suffix}:1\",\n",
        "        model_input=logistic_regression_step.outputs.model_output,\n",
        "        train_dataset=training_data,\n",
        "        test_dataset=test_data,\n",
        "        target_column_name=target_column_name,\n",
        "        categorical_column_names=categorical_features,\n",
        "        classes=classes_in_target,\n",
        "        use_model_dependency=False,\n",
        "    )\n",
        "    logistic_regression_create_rai_job.set_limits(timeout=7200)\n",
        "\n",
        "    # Add error analysis\n",
        "    logistic_regression_erroranalysis_job = rai_erroranalysis_component(\n",
        "        rai_insights_dashboard=logistic_regression_create_rai_job.outputs.rai_insights_dashboard,\n",
        "    )\n",
        "    logistic_regression_erroranalysis_job.set_limits(timeout=7200)\n",
        "\n",
        "    # Combine everything\n",
        "    logistic_regression_rai_gather_job = rai_gather_component(\n",
        "        constructor=logistic_regression_create_rai_job.outputs.rai_insights_dashboard,\n",
        "        #insight_1=explain_job.outputs.explanation,\n",
        "        #insight_2=causal_job.outputs.causal,\n",
        "        #insight_3=counterfactual_job.outputs.counterfactual,\n",
        "        insight_4=logistic_regression_erroranalysis_job.outputs.error_analysis,\n",
        "    )\n",
        "    logistic_regression_rai_gather_job.set_limits(timeout=7200)\n",
        "\n",
        "    logistic_regression_rai_gather_job.outputs.dashboard.mode = \"upload\"\n",
        "    logistic_regression_rai_gather_job.outputs.ux_json.mode = \"upload\"\n",
        "\n",
        "    return {}\n",
        "\n",
        "rai_demo_pipeline_job = rai_demo_pipeline(target_feature, exclude_features, train_mltable, test_mltable)\n",
        "rai_demo_pipeline_job.settings.ForceRerun = True"
      ]
    },
    {
      "cell_type": "code",
      "execution_count": 16,
      "id": "bc4aaf1e",
      "metadata": {
        "gather": {
          "logged": 1717093648161
        }
      },
      "outputs": [
        {
          "name": "stderr",
          "output_type": "stream",
          "text": [
            "\u001b[32mUploading logistic_regression (0.01 MBs): 100%|█████████████████████████████████████████████████████████████████████████████████████████████████████████████████████████████████████████████████████████████████████████████████████████████████████████████████████████████████████████████████████████████████████████████████████████████████████████████████████████████████████████████████████████████████████████████████████████████████████████████████████████████████████████████████████████████████████████████████████████████████████████████████████████████████████████████████████████████████████████████████████████████████████████████████████████████████████████████████████████████████████████████████████████████████████████████████████████████████████████████████████████████████████████████████████████████████████████████████████████████████████████████████████████████████████████████████████████████████████████████████████████████████████████████████| 6018/6018 [00:00<00:00, 46423.30it/s]\u001b[0m\n",
            "\u001b[39m\n",
            "\n",
            "pathOnCompute is not a known attribute of class <class 'azure.ai.ml._restclient.v2023_04_01_preview.models._models_py3.UriFolderJobOutput'> and will be ignored\n",
            "pathOnCompute is not a known attribute of class <class 'azure.ai.ml._restclient.v2023_04_01_preview.models._models_py3.UriFolderJobOutput'> and will be ignored\n",
            "pathOnCompute is not a known attribute of class <class 'azure.ai.ml._restclient.v2023_04_01_preview.models._models_py3.UriFolderJobOutput'> and will be ignored\n",
            "pathOnCompute is not a known attribute of class <class 'azure.ai.ml._restclient.v2023_04_01_preview.models._models_py3.UriFolderJobOutput'> and will be ignored\n",
            "pathOnCompute is not a known attribute of class <class 'azure.ai.ml._restclient.v2023_04_01_preview.models._models_py3.UriFolderJobOutput'> and will be ignored\n",
            "pathOnCompute is not a known attribute of class <class 'azure.ai.ml._restclient.v2023_04_01_preview.models._models_py3.UriFolderJobOutput'> and will be ignored\n"
          ]
        },
        {
          "data": {
            "text/html": [
              "<table style=\"width:100%\"><tr><th>Experiment</th><th>Name</th><th>Type</th><th>Status</th><th>Details Page</th></tr><tr><td>Academic_sucess_Bianry_classifier_1717098294</td><td>olden_picture_sbk6v16y1m</td><td>pipeline</td><td>NotStarted</td><td><a href=\"https://ml.azure.com/runs/olden_picture_sbk6v16y1m?wsid=/subscriptions/e02ff02a-3d3d-4fa7-828d-54c7d1f4899f/resourcegroups/aauki_eli_demos/workspaces/aauki_eli_demos_amlws01&amp;tid=b1ca6599-0d75-4087-b9db-4d1109790aac\" target=\"_blank\" rel=\"noopener\">Link to Azure Machine Learning studio</a></td></tr></table>"
            ],
            "text/plain": [
              "PipelineJob({'inputs': {'target_column_name': <azure.ai.ml.entities._job.pipeline._io.base.PipelineInput object at 0x7fd21de0afe0>, 'exclude_features': <azure.ai.ml.entities._job.pipeline._io.base.PipelineInput object at 0x7fd21de0aa10>, 'training_data': <azure.ai.ml.entities._job.pipeline._io.base.PipelineInput object at 0x7fd21de0b7f0>, 'test_data': <azure.ai.ml.entities._job.pipeline._io.base.PipelineInput object at 0x7fd21de0a2c0>}, 'outputs': {}, 'jobs': {}, 'component': PipelineComponent({'latest_version': None, 'intellectual_property': None, 'auto_increment_version': False, 'source': 'REMOTE.WORKSPACE.JOB', 'is_anonymous': True, 'auto_delete_setting': None, 'name': 'azureml_anonymous', 'description': 'RAI Academic Sucess Classifier Demo NB', 'tags': {}, 'properties': {}, 'print_as_yaml': False, 'id': None, 'Resource__source_path': None, 'base_path': '/mnt/batch/tasks/shared/LS_root/mounts/clusters/uki-aml-eli-cpu04/code/Users/eli.kling/ado/azure_machine_learning/Exploration/ResponsibleAI/pipelines', 'creation_context': None, 'serialize': <msrest.serialization.Serializer object at 0x7fd21de0b370>, 'version': '1', 'schema': None, 'type': 'pipeline', 'display_name': 'rai_demo_pipeline', 'is_deterministic': None, 'inputs': {'target_column_name': {}, 'exclude_features': {}, 'training_data': {}, 'test_data': {}}, 'outputs': {}, 'yaml_str': None, 'other_parameter': {}, 'jobs': {'lgbm_step': Command({'parameters': {}, 'init': False, 'name': 'lgbm_step', 'type': 'command', 'status': None, 'log_files': None, 'description': None, 'tags': {}, 'properties': {}, 'print_as_yaml': False, 'id': None, 'Resource__source_path': '', 'base_path': '/mnt/batch/tasks/shared/LS_root/mounts/clusters/uki-aml-eli-cpu04/code/Users/eli.kling/ado/azure_machine_learning/Exploration/ResponsibleAI/pipelines', 'creation_context': None, 'serialize': <msrest.serialization.Serializer object at 0x7fd21c535c00>, 'allowed_keys': {}, 'key_restriction': False, 'logger': <TraceLogger attr_dict (WARNING)>, 'display_name': None, 'experiment_name': None, 'compute': None, 'services': None, 'comment': None, 'job_inputs': {'model_base_name': 'Academic_sucess_Bianry_classifier_lgbm_1717098294', 'training_data': '${{parent.inputs.training_data}}', 'test_data': '${{parent.inputs.test_data}}', 'target_column_name': '${{parent.inputs.target_column_name}}', 'exclude_features': '${{parent.inputs.exclude_features}}'}, 'job_outputs': {}, 'inputs': {'model_base_name': <azure.ai.ml.entities._job.pipeline._io.base.NodeInput object at 0x7fd21c5349a0>, 'training_data': <azure.ai.ml.entities._job.pipeline._io.base.NodeInput object at 0x7fd21c535c30>, 'test_data': <azure.ai.ml.entities._job.pipeline._io.base.NodeInput object at 0x7fd21c534460>, 'target_column_name': <azure.ai.ml.entities._job.pipeline._io.base.NodeInput object at 0x7fd21c537c10>, 'exclude_features': <azure.ai.ml.entities._job.pipeline._io.base.NodeInput object at 0x7fd21c537b80>}, 'outputs': {}, 'component': 'azureml_anonymous:298f995d-1a37-46ce-857f-d8729a02c970', 'referenced_control_flow_node_instance_id': None, 'kwargs': {'services': None}, 'instance_id': '6fceff5b-8b51-42ba-8192-09faa8b987fb', 'source': 'YAML.COMPONENT', 'validate_required_input_not_provided': True, 'limits': <azure.ai.ml.entities._job.job_limits.CommandJobLimits object at 0x7fd21c5356c0>, 'identity': None, 'distribution': None, 'environment_variables': {}, 'environment': None, 'resources': None, 'queue_settings': None, 'swept': False}), 'lgbm_create_rai_job': Command({'parameters': {}, 'init': False, 'name': 'lgbm_create_rai_job', 'type': 'command', 'status': None, 'log_files': None, 'description': None, 'tags': {}, 'properties': {}, 'print_as_yaml': False, 'id': None, 'Resource__source_path': '', 'base_path': '/mnt/batch/tasks/shared/LS_root/mounts/clusters/uki-aml-eli-cpu04/code/Users/eli.kling/ado/azure_machine_learning/Exploration/ResponsibleAI/pipelines', 'creation_context': None, 'serialize': <msrest.serialization.Serializer object at 0x7fd21de08790>, 'allowed_keys': {}, 'key_restriction': False, 'logger': <TraceLogger attr_dict (WARNING)>, 'display_name': None, 'experiment_name': None, 'compute': None, 'services': None, 'comment': None, 'job_inputs': {'title': 'LGBM RAI Dashboard Example', 'task_type': 'classification', 'model_info': 'Academic_sucess_Bianry_classifier_lgbm_1717098294:1', 'categorical_column_names': '[\"Marital_status\", \"Daytime_evening_attendance\", \"Scholarship_holder\", \"Displaced\", \"Debtor\", \"Gender\", \"Tuition_fees_up_to_date\", \"International\", \"Daytime_evening_attendance\", \"Educational_special_needs\"]', 'classes': '[\"Graduated/Still Enrolled\", \"Dropout\"]', 'use_model_dependency': 'True', 'model_input': '${{parent.jobs.lgbm_step.outputs.model_output}}', 'train_dataset': '${{parent.inputs.training_data}}', 'test_dataset': '${{parent.inputs.test_data}}', 'target_column_name': '${{parent.inputs.target_column_name}}'}, 'job_outputs': {}, 'inputs': {'title': <azure.ai.ml.entities._job.pipeline._io.base.NodeInput object at 0x7fd21de09ed0>, 'task_type': <azure.ai.ml.entities._job.pipeline._io.base.NodeInput object at 0x7fd21de08100>, 'model_info': <azure.ai.ml.entities._job.pipeline._io.base.NodeInput object at 0x7fd21de080a0>, 'categorical_column_names': <azure.ai.ml.entities._job.pipeline._io.base.NodeInput object at 0x7fd21de0b3d0>, 'classes': <azure.ai.ml.entities._job.pipeline._io.base.NodeInput object at 0x7fd21de0a9b0>, 'use_model_dependency': <azure.ai.ml.entities._job.pipeline._io.base.NodeInput object at 0x7fd21de0add0>, 'model_input': <azure.ai.ml.entities._job.pipeline._io.base.NodeInput object at 0x7fd21de08310>, 'train_dataset': <azure.ai.ml.entities._job.pipeline._io.base.NodeInput object at 0x7fd21de09f00>, 'test_dataset': <azure.ai.ml.entities._job.pipeline._io.base.NodeInput object at 0x7fd21de09a20>, 'target_column_name': <azure.ai.ml.entities._job.pipeline._io.base.NodeInput object at 0x7fd21de08340>}, 'outputs': {}, 'component': 'azureml://registries/azureml/components/microsoft_azureml_rai_tabular_insight_constructor/versions/0.14.0', 'referenced_control_flow_node_instance_id': None, 'kwargs': {'services': None}, 'instance_id': 'dc7aacdd-1a11-4970-962d-a296822d9ee9', 'source': 'REMOTE.REGISTRY', 'validate_required_input_not_provided': True, 'limits': <azure.ai.ml.entities._job.job_limits.CommandJobLimits object at 0x7fd21c534310>, 'identity': None, 'distribution': None, 'environment_variables': {}, 'environment': None, 'resources': {'instance_count': 1}, 'queue_settings': None, 'swept': False}), 'lgbm_erroranalysis_job': Command({'parameters': {}, 'init': False, 'name': 'lgbm_erroranalysis_job', 'type': 'command', 'status': None, 'log_files': None, 'description': None, 'tags': {}, 'properties': {}, 'print_as_yaml': False, 'id': None, 'Resource__source_path': '', 'base_path': '/mnt/batch/tasks/shared/LS_root/mounts/clusters/uki-aml-eli-cpu04/code/Users/eli.kling/ado/azure_machine_learning/Exploration/ResponsibleAI/pipelines', 'creation_context': None, 'serialize': <msrest.serialization.Serializer object at 0x7fd21de081c0>, 'allowed_keys': {}, 'key_restriction': False, 'logger': <TraceLogger attr_dict (WARNING)>, 'display_name': None, 'experiment_name': None, 'compute': None, 'services': None, 'comment': None, 'job_inputs': {'rai_insights_dashboard': '${{parent.jobs.lgbm_create_rai_job.outputs.rai_insights_dashboard}}'}, 'job_outputs': {}, 'inputs': {'rai_insights_dashboard': <azure.ai.ml.entities._job.pipeline._io.base.NodeInput object at 0x7fd21de09ae0>}, 'outputs': {}, 'component': 'azureml://registries/azureml/components/microsoft_azureml_rai_tabular_erroranalysis/versions/0.14.0', 'referenced_control_flow_node_instance_id': None, 'kwargs': {'services': None}, 'instance_id': 'bddae0c6-a485-4c44-acff-bb3af48840d6', 'source': 'REMOTE.REGISTRY', 'validate_required_input_not_provided': True, 'limits': <azure.ai.ml.entities._job.job_limits.CommandJobLimits object at 0x7fd21de09e40>, 'identity': None, 'distribution': None, 'environment_variables': {}, 'environment': None, 'resources': {'instance_count': 1}, 'queue_settings': None, 'swept': False}), 'lgbm_rai_gather_job': Command({'parameters': {}, 'init': False, 'name': 'lgbm_rai_gather_job', 'type': 'command', 'status': None, 'log_files': None, 'description': None, 'tags': {}, 'properties': {}, 'print_as_yaml': False, 'id': None, 'Resource__source_path': '', 'base_path': '/mnt/batch/tasks/shared/LS_root/mounts/clusters/uki-aml-eli-cpu04/code/Users/eli.kling/ado/azure_machine_learning/Exploration/ResponsibleAI/pipelines', 'creation_context': None, 'serialize': <msrest.serialization.Serializer object at 0x7fd21de09060>, 'allowed_keys': {}, 'key_restriction': False, 'logger': <TraceLogger attr_dict (WARNING)>, 'display_name': None, 'experiment_name': None, 'compute': None, 'services': None, 'comment': None, 'job_inputs': {'constructor': '${{parent.jobs.lgbm_create_rai_job.outputs.rai_insights_dashboard}}', 'insight_4': '${{parent.jobs.lgbm_erroranalysis_job.outputs.error_analysis}}'}, 'job_outputs': {'dashboard': {'type': 'uri_folder', 'mode': 'upload'}, 'ux_json': {'type': 'uri_folder', 'mode': 'upload'}}, 'inputs': {'constructor': <azure.ai.ml.entities._job.pipeline._io.base.NodeInput object at 0x7fd21de091b0>, 'insight_4': <azure.ai.ml.entities._job.pipeline._io.base.NodeInput object at 0x7fd21de099f0>}, 'outputs': {'dashboard': <azure.ai.ml.entities._job.pipeline._io.base.NodeOutput object at 0x7fd21de083d0>, 'ux_json': <azure.ai.ml.entities._job.pipeline._io.base.NodeOutput object at 0x7fd21de0b8b0>}, 'component': 'azureml://registries/azureml/components/microsoft_azureml_rai_tabular_insight_gather/versions/0.14.0', 'referenced_control_flow_node_instance_id': None, 'kwargs': {'services': None}, 'instance_id': '8b68eeac-ced0-4661-ba9d-acbd1621f1e6', 'source': 'REMOTE.REGISTRY', 'validate_required_input_not_provided': True, 'limits': <azure.ai.ml.entities._job.job_limits.CommandJobLimits object at 0x7fd21de086a0>, 'identity': None, 'distribution': None, 'environment_variables': {}, 'environment': None, 'resources': {'instance_count': 1}, 'queue_settings': None, 'swept': False}), 'tree_step': Command({'parameters': {}, 'init': False, 'name': 'tree_step', 'type': 'command', 'status': None, 'log_files': None, 'description': None, 'tags': {}, 'properties': {}, 'print_as_yaml': False, 'id': None, 'Resource__source_path': '', 'base_path': '/mnt/batch/tasks/shared/LS_root/mounts/clusters/uki-aml-eli-cpu04/code/Users/eli.kling/ado/azure_machine_learning/Exploration/ResponsibleAI/pipelines', 'creation_context': None, 'serialize': <msrest.serialization.Serializer object at 0x7fd21de09210>, 'allowed_keys': {}, 'key_restriction': False, 'logger': <TraceLogger attr_dict (WARNING)>, 'display_name': None, 'experiment_name': None, 'compute': None, 'services': None, 'comment': None, 'job_inputs': {'model_base_name': 'Academic_sucess_Bianry_classifier_tree_1717098294', 'training_data': '${{parent.inputs.training_data}}', 'test_data': '${{parent.inputs.test_data}}', 'target_column_name': '${{parent.inputs.target_column_name}}', 'exclude_features': '${{parent.inputs.exclude_features}}'}, 'job_outputs': {}, 'inputs': {'model_base_name': <azure.ai.ml.entities._job.pipeline._io.base.NodeInput object at 0x7fd21de08610>, 'training_data': <azure.ai.ml.entities._job.pipeline._io.base.NodeInput object at 0x7fd21de09150>, 'test_data': <azure.ai.ml.entities._job.pipeline._io.base.NodeInput object at 0x7fd21de08640>, 'target_column_name': <azure.ai.ml.entities._job.pipeline._io.base.NodeInput object at 0x7fd21de09180>, 'exclude_features': <azure.ai.ml.entities._job.pipeline._io.base.NodeInput object at 0x7fd21de09570>}, 'outputs': {}, 'component': 'azureml_anonymous:92865eb5-0669-4d5f-b161-43774df29cde', 'referenced_control_flow_node_instance_id': None, 'kwargs': {'services': None}, 'instance_id': '95bebd2e-d13d-4c47-9e09-9b55dd258035', 'source': 'YAML.COMPONENT', 'validate_required_input_not_provided': True, 'limits': <azure.ai.ml.entities._job.job_limits.CommandJobLimits object at 0x7fd21de084f0>, 'identity': None, 'distribution': None, 'environment_variables': {}, 'environment': None, 'resources': None, 'queue_settings': None, 'swept': False}), 'tree_create_rai_job': Command({'parameters': {}, 'init': False, 'name': 'tree_create_rai_job', 'type': 'command', 'status': None, 'log_files': None, 'description': None, 'tags': {}, 'properties': {}, 'print_as_yaml': False, 'id': None, 'Resource__source_path': '', 'base_path': '/mnt/batch/tasks/shared/LS_root/mounts/clusters/uki-aml-eli-cpu04/code/Users/eli.kling/ado/azure_machine_learning/Exploration/ResponsibleAI/pipelines', 'creation_context': None, 'serialize': <msrest.serialization.Serializer object at 0x7fd21de0beb0>, 'allowed_keys': {}, 'key_restriction': False, 'logger': <TraceLogger attr_dict (WARNING)>, 'display_name': None, 'experiment_name': None, 'compute': None, 'services': None, 'comment': None, 'job_inputs': {'title': 'Tree RAI Dashboard Example', 'task_type': 'classification', 'model_info': 'Academic_sucess_Bianry_classifier_tree_1717098294:1', 'categorical_column_names': '[\"Marital_status\", \"Daytime_evening_attendance\", \"Scholarship_holder\", \"Displaced\", \"Debtor\", \"Gender\", \"Tuition_fees_up_to_date\", \"International\", \"Daytime_evening_attendance\", \"Educational_special_needs\"]', 'classes': '[\"Graduated/Still Enrolled\", \"Dropout\"]', 'use_model_dependency': 'False', 'model_input': '${{parent.jobs.tree_step.outputs.model_output}}', 'train_dataset': '${{parent.inputs.training_data}}', 'test_dataset': '${{parent.inputs.test_data}}', 'target_column_name': '${{parent.inputs.target_column_name}}'}, 'job_outputs': {}, 'inputs': {'title': <azure.ai.ml.entities._job.pipeline._io.base.NodeInput object at 0x7fd21de0afb0>, 'task_type': <azure.ai.ml.entities._job.pipeline._io.base.NodeInput object at 0x7fd21de082e0>, 'model_info': <azure.ai.ml.entities._job.pipeline._io.base.NodeInput object at 0x7fd21de08490>, 'categorical_column_names': <azure.ai.ml.entities._job.pipeline._io.base.NodeInput object at 0x7fd21de08040>, 'classes': <azure.ai.ml.entities._job.pipeline._io.base.NodeInput object at 0x7fd21de0a3b0>, 'use_model_dependency': <azure.ai.ml.entities._job.pipeline._io.base.NodeInput object at 0x7fd21de08400>, 'model_input': <azure.ai.ml.entities._job.pipeline._io.base.NodeInput object at 0x7fd21de08a30>, 'train_dataset': <azure.ai.ml.entities._job.pipeline._io.base.NodeInput object at 0x7fd21de08b20>, 'test_dataset': <azure.ai.ml.entities._job.pipeline._io.base.NodeInput object at 0x7fd21de089d0>, 'target_column_name': <azure.ai.ml.entities._job.pipeline._io.base.NodeInput object at 0x7fd21de088e0>}, 'outputs': {}, 'component': 'azureml://registries/azureml/components/microsoft_azureml_rai_tabular_insight_constructor/versions/0.14.0', 'referenced_control_flow_node_instance_id': None, 'kwargs': {'services': None}, 'instance_id': '6908b529-c426-4f39-bc90-b3de63f390ef', 'source': 'REMOTE.REGISTRY', 'validate_required_input_not_provided': True, 'limits': <azure.ai.ml.entities._job.job_limits.CommandJobLimits object at 0x7fd21de09ab0>, 'identity': None, 'distribution': None, 'environment_variables': {}, 'environment': None, 'resources': {'instance_count': 1}, 'queue_settings': None, 'swept': False}), 'tree_erroranalysis_job': Command({'parameters': {}, 'init': False, 'name': 'tree_erroranalysis_job', 'type': 'command', 'status': None, 'log_files': None, 'description': None, 'tags': {}, 'properties': {}, 'print_as_yaml': False, 'id': None, 'Resource__source_path': '', 'base_path': '/mnt/batch/tasks/shared/LS_root/mounts/clusters/uki-aml-eli-cpu04/code/Users/eli.kling/ado/azure_machine_learning/Exploration/ResponsibleAI/pipelines', 'creation_context': None, 'serialize': <msrest.serialization.Serializer object at 0x7fd21de08df0>, 'allowed_keys': {}, 'key_restriction': False, 'logger': <TraceLogger attr_dict (WARNING)>, 'display_name': None, 'experiment_name': None, 'compute': None, 'services': None, 'comment': None, 'job_inputs': {'rai_insights_dashboard': '${{parent.jobs.tree_create_rai_job.outputs.rai_insights_dashboard}}'}, 'job_outputs': {}, 'inputs': {'rai_insights_dashboard': <azure.ai.ml.entities._job.pipeline._io.base.NodeInput object at 0x7fd21de08fa0>}, 'outputs': {}, 'component': 'azureml://registries/azureml/components/microsoft_azureml_rai_tabular_erroranalysis/versions/0.14.0', 'referenced_control_flow_node_instance_id': None, 'kwargs': {'services': None}, 'instance_id': 'c2f02e29-ec34-41ba-800a-2f42602c37d0', 'source': 'REMOTE.REGISTRY', 'validate_required_input_not_provided': True, 'limits': <azure.ai.ml.entities._job.job_limits.CommandJobLimits object at 0x7fd21de09c90>, 'identity': None, 'distribution': None, 'environment_variables': {}, 'environment': None, 'resources': {'instance_count': 1}, 'queue_settings': None, 'swept': False}), 'tree_rai_gather_job': Command({'parameters': {}, 'init': False, 'name': 'tree_rai_gather_job', 'type': 'command', 'status': None, 'log_files': None, 'description': None, 'tags': {}, 'properties': {}, 'print_as_yaml': False, 'id': None, 'Resource__source_path': '', 'base_path': '/mnt/batch/tasks/shared/LS_root/mounts/clusters/uki-aml-eli-cpu04/code/Users/eli.kling/ado/azure_machine_learning/Exploration/ResponsibleAI/pipelines', 'creation_context': None, 'serialize': <msrest.serialization.Serializer object at 0x7fd21de08f40>, 'allowed_keys': {}, 'key_restriction': False, 'logger': <TraceLogger attr_dict (WARNING)>, 'display_name': None, 'experiment_name': None, 'compute': None, 'services': None, 'comment': None, 'job_inputs': {'constructor': '${{parent.jobs.tree_create_rai_job.outputs.rai_insights_dashboard}}', 'insight_4': '${{parent.jobs.tree_erroranalysis_job.outputs.error_analysis}}'}, 'job_outputs': {'dashboard': {'type': 'uri_folder', 'mode': 'upload'}, 'ux_json': {'type': 'uri_folder', 'mode': 'upload'}}, 'inputs': {'constructor': <azure.ai.ml.entities._job.pipeline._io.base.NodeInput object at 0x7fd21de08eb0>, 'insight_4': <azure.ai.ml.entities._job.pipeline._io.base.NodeInput object at 0x7fd21de08e20>}, 'outputs': {'dashboard': <azure.ai.ml.entities._job.pipeline._io.base.NodeOutput object at 0x7fd21de08dc0>, 'ux_json': <azure.ai.ml.entities._job.pipeline._io.base.NodeOutput object at 0x7fd21de08ac0>}, 'component': 'azureml://registries/azureml/components/microsoft_azureml_rai_tabular_insight_gather/versions/0.14.0', 'referenced_control_flow_node_instance_id': None, 'kwargs': {'services': None}, 'instance_id': '6f6f8882-f61e-4e27-ac78-97b0c680f5bb', 'source': 'REMOTE.REGISTRY', 'validate_required_input_not_provided': True, 'limits': <azure.ai.ml.entities._job.job_limits.CommandJobLimits object at 0x7fd21de09b70>, 'identity': None, 'distribution': None, 'environment_variables': {}, 'environment': None, 'resources': {'instance_count': 1}, 'queue_settings': None, 'swept': False}), 'logistic_regression_step': Command({'parameters': {}, 'init': False, 'name': 'logistic_regression_step', 'type': 'command', 'status': None, 'log_files': None, 'description': None, 'tags': {}, 'properties': {}, 'print_as_yaml': False, 'id': None, 'Resource__source_path': '', 'base_path': '/mnt/batch/tasks/shared/LS_root/mounts/clusters/uki-aml-eli-cpu04/code/Users/eli.kling/ado/azure_machine_learning/Exploration/ResponsibleAI/pipelines', 'creation_context': None, 'serialize': <msrest.serialization.Serializer object at 0x7fd21de08b50>, 'allowed_keys': {}, 'key_restriction': False, 'logger': <TraceLogger attr_dict (WARNING)>, 'display_name': None, 'experiment_name': None, 'compute': None, 'services': None, 'comment': None, 'job_inputs': {'model_base_name': 'Academic_sucess_Bianry_classifier_logistic_regression_1717098294', 'training_data': '${{parent.inputs.training_data}}', 'test_data': '${{parent.inputs.test_data}}', 'target_column_name': '${{parent.inputs.target_column_name}}', 'exclude_features': '${{parent.inputs.exclude_features}}'}, 'job_outputs': {}, 'inputs': {'model_base_name': <azure.ai.ml.entities._job.pipeline._io.base.NodeInput object at 0x7fd21de08850>, 'training_data': <azure.ai.ml.entities._job.pipeline._io.base.NodeInput object at 0x7fd21de096c0>, 'test_data': <azure.ai.ml.entities._job.pipeline._io.base.NodeInput object at 0x7fd21de096f0>, 'target_column_name': <azure.ai.ml.entities._job.pipeline._io.base.NodeInput object at 0x7fd21de094e0>, 'exclude_features': <azure.ai.ml.entities._job.pipeline._io.base.NodeInput object at 0x7fd21de09540>}, 'outputs': {}, 'component': 'azureml_anonymous:0a99e95a-2a09-4f53-929c-c70637859843', 'referenced_control_flow_node_instance_id': None, 'kwargs': {'services': None}, 'instance_id': '498734fb-0181-42d6-8f6f-48e474349d45', 'source': 'YAML.COMPONENT', 'validate_required_input_not_provided': True, 'limits': None, 'identity': None, 'distribution': None, 'environment_variables': {}, 'environment': None, 'resources': None, 'queue_settings': None, 'swept': False}), 'logistic_regression_create_rai_job': Command({'parameters': {}, 'init': False, 'name': 'logistic_regression_create_rai_job', 'type': 'command', 'status': None, 'log_files': None, 'description': None, 'tags': {}, 'properties': {}, 'print_as_yaml': False, 'id': None, 'Resource__source_path': '', 'base_path': '/mnt/batch/tasks/shared/LS_root/mounts/clusters/uki-aml-eli-cpu04/code/Users/eli.kling/ado/azure_machine_learning/Exploration/ResponsibleAI/pipelines', 'creation_context': None, 'serialize': <msrest.serialization.Serializer object at 0x7fd21de0bdc0>, 'allowed_keys': {}, 'key_restriction': False, 'logger': <TraceLogger attr_dict (WARNING)>, 'display_name': None, 'experiment_name': None, 'compute': None, 'services': None, 'comment': None, 'job_inputs': {'title': 'logistic_regression RAI Dashboard Example', 'task_type': 'classification', 'model_info': 'Academic_sucess_Bianry_classifier_logistic_regression_1717098294:1', 'categorical_column_names': '[\"Marital_status\", \"Daytime_evening_attendance\", \"Scholarship_holder\", \"Displaced\", \"Debtor\", \"Gender\", \"Tuition_fees_up_to_date\", \"International\", \"Daytime_evening_attendance\", \"Educational_special_needs\"]', 'classes': '[\"Graduated/Still Enrolled\", \"Dropout\"]', 'use_model_dependency': 'False', 'model_input': '${{parent.jobs.logistic_regression_step.outputs.model_output}}', 'train_dataset': '${{parent.inputs.training_data}}', 'test_dataset': '${{parent.inputs.test_data}}', 'target_column_name': '${{parent.inputs.target_column_name}}'}, 'job_outputs': {}, 'inputs': {'title': <azure.ai.ml.entities._job.pipeline._io.base.NodeInput object at 0x7fd21de09780>, 'task_type': <azure.ai.ml.entities._job.pipeline._io.base.NodeInput object at 0x7fd21de0a050>, 'model_info': <azure.ai.ml.entities._job.pipeline._io.base.NodeInput object at 0x7fd21de090f0>, 'categorical_column_names': <azure.ai.ml.entities._job.pipeline._io.base.NodeInput object at 0x7fd21de0bf10>, 'classes': <azure.ai.ml.entities._job.pipeline._io.base.NodeInput object at 0x7fd21de09360>, 'use_model_dependency': <azure.ai.ml.entities._job.pipeline._io.base.NodeInput object at 0x7fd21de09420>, 'model_input': <azure.ai.ml.entities._job.pipeline._io.base.NodeInput object at 0x7fd21de095a0>, 'train_dataset': <azure.ai.ml.entities._job.pipeline._io.base.NodeInput object at 0x7fd21de09510>, 'test_dataset': <azure.ai.ml.entities._job.pipeline._io.base.NodeInput object at 0x7fd21de09120>, 'target_column_name': <azure.ai.ml.entities._job.pipeline._io.base.NodeInput object at 0x7fd21de09870>}, 'outputs': {}, 'component': 'azureml://registries/azureml/components/microsoft_azureml_rai_tabular_insight_constructor/versions/0.14.0', 'referenced_control_flow_node_instance_id': None, 'kwargs': {'services': None}, 'instance_id': '251554e7-7f22-4424-8d08-d53ad66ddc07', 'source': 'REMOTE.REGISTRY', 'validate_required_input_not_provided': True, 'limits': <azure.ai.ml.entities._job.job_limits.CommandJobLimits object at 0x7fd21de0ba00>, 'identity': None, 'distribution': None, 'environment_variables': {}, 'environment': None, 'resources': {'instance_count': 1}, 'queue_settings': None, 'swept': False}), 'logistic_regression_erroranalysis_job': Command({'parameters': {}, 'init': False, 'name': 'logistic_regression_erroranalysis_job', 'type': 'command', 'status': None, 'log_files': None, 'description': None, 'tags': {}, 'properties': {}, 'print_as_yaml': False, 'id': None, 'Resource__source_path': '', 'base_path': '/mnt/batch/tasks/shared/LS_root/mounts/clusters/uki-aml-eli-cpu04/code/Users/eli.kling/ado/azure_machine_learning/Exploration/ResponsibleAI/pipelines', 'creation_context': None, 'serialize': <msrest.serialization.Serializer object at 0x7fd21de0ba60>, 'allowed_keys': {}, 'key_restriction': False, 'logger': <TraceLogger attr_dict (WARNING)>, 'display_name': None, 'experiment_name': None, 'compute': None, 'services': None, 'comment': None, 'job_inputs': {'rai_insights_dashboard': '${{parent.jobs.logistic_regression_create_rai_job.outputs.rai_insights_dashboard}}'}, 'job_outputs': {}, 'inputs': {'rai_insights_dashboard': <azure.ai.ml.entities._job.pipeline._io.base.NodeInput object at 0x7fd21de0bdf0>}, 'outputs': {}, 'component': 'azureml://registries/azureml/components/microsoft_azureml_rai_tabular_erroranalysis/versions/0.14.0', 'referenced_control_flow_node_instance_id': None, 'kwargs': {'services': None}, 'instance_id': '67e299c0-cb3f-43ca-9768-b2f07a38d1f9', 'source': 'REMOTE.REGISTRY', 'validate_required_input_not_provided': True, 'limits': <azure.ai.ml.entities._job.job_limits.CommandJobLimits object at 0x7fd21de0bd90>, 'identity': None, 'distribution': None, 'environment_variables': {}, 'environment': None, 'resources': {'instance_count': 1}, 'queue_settings': None, 'swept': False}), 'logistic_regression_rai_gather_job': Command({'parameters': {}, 'init': False, 'name': 'logistic_regression_rai_gather_job', 'type': 'command', 'status': None, 'log_files': None, 'description': None, 'tags': {}, 'properties': {}, 'print_as_yaml': False, 'id': None, 'Resource__source_path': '', 'base_path': '/mnt/batch/tasks/shared/LS_root/mounts/clusters/uki-aml-eli-cpu04/code/Users/eli.kling/ado/azure_machine_learning/Exploration/ResponsibleAI/pipelines', 'creation_context': None, 'serialize': <msrest.serialization.Serializer object at 0x7fd21de09e10>, 'allowed_keys': {}, 'key_restriction': False, 'logger': <TraceLogger attr_dict (WARNING)>, 'display_name': None, 'experiment_name': None, 'compute': None, 'services': None, 'comment': None, 'job_inputs': {'constructor': '${{parent.jobs.logistic_regression_create_rai_job.outputs.rai_insights_dashboard}}', 'insight_4': '${{parent.jobs.logistic_regression_erroranalysis_job.outputs.error_analysis}}'}, 'job_outputs': {'dashboard': {'type': 'uri_folder', 'mode': 'upload'}, 'ux_json': {'type': 'uri_folder', 'mode': 'upload'}}, 'inputs': {'constructor': <azure.ai.ml.entities._job.pipeline._io.base.NodeInput object at 0x7fd21de0ad40>, 'insight_4': <azure.ai.ml.entities._job.pipeline._io.base.NodeInput object at 0x7fd21de0bb80>}, 'outputs': {'dashboard': <azure.ai.ml.entities._job.pipeline._io.base.NodeOutput object at 0x7fd21de0ae00>, 'ux_json': <azure.ai.ml.entities._job.pipeline._io.base.NodeOutput object at 0x7fd21de0a500>}, 'component': 'azureml://registries/azureml/components/microsoft_azureml_rai_tabular_insight_gather/versions/0.14.0', 'referenced_control_flow_node_instance_id': None, 'kwargs': {'services': None}, 'instance_id': '2a5bd902-83ee-40cf-9401-0c4966626898', 'source': 'REMOTE.REGISTRY', 'validate_required_input_not_provided': True, 'limits': <azure.ai.ml.entities._job.job_limits.CommandJobLimits object at 0x7fd21de0ba30>, 'identity': None, 'distribution': None, 'environment_variables': {}, 'environment': None, 'resources': {'instance_count': 1}, 'queue_settings': None, 'swept': False})}, 'job_types': {'command': 12}, 'job_sources': {'YAML.COMPONENT': 3, 'REMOTE.REGISTRY': 9}, 'source_job_id': None}), 'type': 'pipeline', 'status': 'NotStarted', 'log_files': None, 'name': 'olden_picture_sbk6v16y1m', 'description': 'RAI Academic Sucess Classifier Demo NB', 'tags': {}, 'properties': {'mlflow.source.git.repoURL': 'https://elikling@dev.azure.com/elikling/EliADO/_git/azure_machine_learning', 'mlflow.source.git.branch': 'rai/fairness', 'mlflow.source.git.commit': '76299e19c1ad524d31c793b79b3194d4bd8d8b84', 'azureml.git.dirty': 'True'}, 'print_as_yaml': False, 'id': '/subscriptions/e02ff02a-3d3d-4fa7-828d-54c7d1f4899f/resourceGroups/aauki_eli_demos/providers/Microsoft.MachineLearningServices/workspaces/aauki_eli_demos_amlws01/jobs/olden_picture_sbk6v16y1m', 'Resource__source_path': '', 'base_path': '/mnt/batch/tasks/shared/LS_root/mounts/clusters/uki-aml-eli-cpu04/code/Users/eli.kling/ado/azure_machine_learning/Exploration/ResponsibleAI/pipelines', 'creation_context': <azure.ai.ml.entities._system_data.SystemData object at 0x7fd21de0b0a0>, 'serialize': <msrest.serialization.Serializer object at 0x7fd21c534550>, 'display_name': 'rai_demo_pipeline', 'experiment_name': 'Academic_sucess_Bianry_classifier_1717098294', 'compute': 'rai-cluster', 'services': {'Tracking': {'endpoint': 'azureml://uksouth.api.azureml.ms/mlflow/v1.0/subscriptions/e02ff02a-3d3d-4fa7-828d-54c7d1f4899f/resourceGroups/aauki_eli_demos/providers/Microsoft.MachineLearningServices/workspaces/aauki_eli_demos_amlws01?', 'type': 'Tracking'}, 'Studio': {'endpoint': 'https://ml.azure.com/runs/olden_picture_sbk6v16y1m?wsid=/subscriptions/e02ff02a-3d3d-4fa7-828d-54c7d1f4899f/resourcegroups/aauki_eli_demos/workspaces/aauki_eli_demos_amlws01&tid=b1ca6599-0d75-4087-b9db-4d1109790aac', 'type': 'Studio'}}, 'settings': {}, 'identity': None, 'default_code': None, 'default_environment': None})"
            ]
          },
          "execution_count": 16,
          "metadata": {},
          "output_type": "execute_result"
        }
      ],
      "source": [
        "go_job = ml_client.jobs.create_or_update(rai_demo_pipeline_job)\n",
        "go_job"
      ]
    }
  ],
  "metadata": {
    "categories": [
      "SDK v2",
      "sdk",
      "python",
      "responsible-ai",
      "tabular"
    ],
    "kernel_info": {
      "name": "python310-sdkv2"
    },
    "kernelspec": {
      "display_name": "azureml_py310_sdkv2",
      "language": "python",
      "name": "python3"
    },
    "language_info": {
      "codemirror_mode": {
        "name": "ipython",
        "version": 3
      },
      "file_extension": ".py",
      "mimetype": "text/x-python",
      "name": "python",
      "nbconvert_exporter": "python",
      "pygments_lexer": "ipython3",
      "version": "3.10.11"
    },
    "microsoft": {
      "host": {
        "AzureML": {
          "notebookHasBeenCompleted": true
        }
      },
      "ms_spell_check": {
        "ms_spell_check_language": "en"
      }
    },
    "nteract": {
      "version": "nteract-front-end@1.0.0"
    }
  },
  "nbformat": 4,
  "nbformat_minor": 5
}
