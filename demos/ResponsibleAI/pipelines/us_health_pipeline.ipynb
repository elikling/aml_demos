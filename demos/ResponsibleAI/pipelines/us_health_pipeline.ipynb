{
  "cells": [
    {
      "cell_type": "markdown",
      "source": [
        "How to generate counterfactuals for a model with Responsible AI (Part 8) \n",
        "https://techcommunity.microsoft.com/t5/ai-machine-learning-blog/how-to-generate-counterfactuals-for-a-model-with-responsible-ai/ba-p/3803934#:~:text=The%20Responsible%20AI%20%28RAI%29%20dashboard%20provides%20the%20Counterfactual,change%20to%20get%20opposite%20or%20desired%20model%20prediction."
      ],
      "metadata": {},
      "id": "29d98548"
    },
    {
      "cell_type": "markdown",
      "source": [
        "Generate a Responsible AI insights with YAML and Python\n",
        "https://learn.microsoft.com/en-us/azure/machine-learning/how-to-responsible-ai-insights-sdk-cli?view=azureml-api-2&tabs=yaml\n"
      ],
      "metadata": {},
      "id": "9832325c"
    },
    {
      "cell_type": "code",
      "source": [
        "#%pip install -U azure.ai.ml mltable"
      ],
      "outputs": [],
      "execution_count": 1,
      "metadata": {
        "gather": {
          "logged": 1720614526652
        }
      },
      "id": "7ab989a0"
    },
    {
      "cell_type": "code",
      "source": [
        "import os\n",
        "import time\n",
        "from dotenv import load_dotenv\n",
        "import pandas as pd\n",
        "\n",
        "import json\n",
        "\n",
        "from azure.ai.ml import MLClient\n",
        "from azure.identity import DefaultAzureCredential\n",
        "\n",
        "from azure.ai.ml import load_component\n",
        "from azure.ai.ml import dsl, Input\n",
        "\n",
        "from azure.ai.ml.entities import PipelineJob\n",
        "from IPython.core.display import HTML\n",
        "from IPython.display import display"
      ],
      "outputs": [],
      "execution_count": 2,
      "metadata": {
        "gather": {
          "logged": 1720614528227
        }
      },
      "id": "e5e00dc5"
    },
    {
      "cell_type": "code",
      "source": [
        "load_dotenv()\n",
        "SUBSCRIPTION_ID = os.environ.get(\"SUBSCRIPTION_ID\")\n",
        "RESOURCE_GROUP = os.environ.get(\"RESOURCE_GROUP\")\n",
        "AML_WORKSPACE_NAME = os.environ.get(\"AML_WORKSPACE_NAME\")\n",
        "print(\"AML_WORKSPACE_NAME:\", AML_WORKSPACE_NAME)\n",
        "\n",
        "credential = DefaultAzureCredential()\n",
        "ml_client = MLClient(credential=credential, subscription_id=SUBSCRIPTION_ID, resource_group_name=RESOURCE_GROUP, workspace_name=AML_WORKSPACE_NAME, )"
      ],
      "outputs": [
        {
          "output_type": "stream",
          "name": "stdout",
          "text": "AML_WORKSPACE_NAME: aauki_eli_demos_amlws01\n"
        }
      ],
      "execution_count": 3,
      "metadata": {
        "gather": {
          "logged": 1720614528940
        }
      },
      "id": "5361bc0d"
    },
    {
      "cell_type": "markdown",
      "source": [
        "RAI registry"
      ],
      "metadata": {},
      "id": "08984e95"
    },
    {
      "cell_type": "code",
      "source": [
        "# Get handle to azureml registry for the RAI built in components\n",
        "version_string = \"1\"\n",
        "compute_name = \"rai-cluster\"\n",
        "\n",
        "registry_name = \"azureml\"\n",
        "ml_client_registry = MLClient(\n",
        "    credential=credential,\n",
        "    subscription_id=SUBSCRIPTION_ID,\n",
        "    resource_group_name=RESOURCE_GROUP,\n",
        "    registry_name=registry_name,\n",
        ")\n",
        "print(ml_client_registry)"
      ],
      "outputs": [
        {
          "output_type": "stream",
          "name": "stdout",
          "text": "MLClient(credential=<azure.identity._credentials.default.DefaultAzureCredential object at 0x7f9460040040>,\n         subscription_id=6c6683e9-e5fe-4038-8519-ce6ebec2ba15,\n         resource_group_name=registry-builtin-prod-eastus-01,\n         workspace_name=None)\n"
        }
      ],
      "execution_count": 4,
      "metadata": {
        "gather": {
          "logged": 1720614532086
        }
      },
      "id": "f105e9a1"
    },
    {
      "cell_type": "code",
      "source": [
        "label = \"latest\"\n",
        "\n",
        "rai_constructor_component = ml_client_registry.components.get(\n",
        "    name=\"microsoft_azureml_rai_tabular_insight_constructor\", label=label\n",
        ")\n",
        "\n",
        "# We get latest version and use the same version for all components\n",
        "version = rai_constructor_component.version\n",
        "print(\"The current version of RAI built-in components is: \" + version)\n",
        "\n",
        "rai_explanation_component = ml_client_registry.components.get(\n",
        "    name=\"microsoft_azureml_rai_tabular_explanation\", version=version\n",
        ")\n",
        "\n",
        "rai_causal_component = ml_client_registry.components.get(\n",
        "    name=\"microsoft_azureml_rai_tabular_causal\", version=version\n",
        ")\n",
        "\n",
        "rai_counterfactual_component = ml_client_registry.components.get(\n",
        "    name=\"microsoft_azureml_rai_tabular_counterfactual\", version=version\n",
        ")\n",
        "\n",
        "rai_erroranalysis_component = ml_client_registry.components.get(\n",
        "    name=\"microsoft_azureml_rai_tabular_erroranalysis\", version=version\n",
        ")\n",
        "\n",
        "rai_gather_component = ml_client_registry.components.get(\n",
        "    name=\"microsoft_azureml_rai_tabular_insight_gather\", version=version\n",
        ")\n",
        "\n",
        "rai_scorecard_component = ml_client_registry.components.get(\n",
        "    name=\"microsoft_azureml_rai_tabular_score_card\", version=version\n",
        ")"
      ],
      "outputs": [
        {
          "output_type": "stream",
          "name": "stdout",
          "text": "The current version of RAI built-in components is: 0.14.0\n"
        }
      ],
      "execution_count": 5,
      "metadata": {
        "gather": {
          "logged": 1720614534313
        }
      },
      "id": "b1efc849"
    },
    {
      "cell_type": "code",
      "source": [
        "model_name_suffix = int(time.time())\n",
        "model_name = \"us_health_regression_py\"\n",
        "\n",
        "expected_model_id = f\"{model_name}_{model_name_suffix}:1\"\n",
        "azureml_model_id = f\"azureml:{expected_model_id}\""
      ],
      "outputs": [],
      "execution_count": 6,
      "metadata": {
        "gather": {
          "logged": 1720614534463
        }
      },
      "id": "3bae879b"
    },
    {
      "cell_type": "code",
      "source": [
        "causal_discovery_component  = load_component(source=\"../components/causal_discovery/causal_discovery.yaml\")\n",
        "linear_regression_component = load_component(source=\"../components/linear_regression/linear_regression.yaml\")"
      ],
      "outputs": [],
      "execution_count": 7,
      "metadata": {
        "gather": {
          "logged": 1720614534637
        }
      },
      "id": "84423999"
    },
    {
      "cell_type": "code",
      "source": [
        "\n",
        "target_feature = \"STROKE_AgeAdjPrv\"\n",
        "# exlude strings and Ints:TotalPopulation;\n",
        "#exclude_features = '\"LocationID\",\"LocationName\",\"StateAbbr\",\"StateDesc\",\"STROKE_CrdPrv\",\"TotalPopulation\"'\n",
        "exclude_features = \"NA\"\n",
        "#categorical_features = json.dumps([\"LocationID\",\"LocationName\",\"StateAbbr\",\"StateDesc\"])\n",
        "\n",
        "# Binge drinking among adults aged >=18 years\n",
        "# Current smoking among adults aged >=18 years\n",
        "# Sleeping less than 7 hours among adults aged >=18 years\n",
        "# No leisure-time physical activity among adults aged >=18 years\n",
        "\n",
        "#['BING_CrdPrv', 'BING_AgeAdjPrv']\n",
        "\n",
        "\n",
        "treatment_features = json.dumps(\n",
        "    [\"CSMOKING_CrdPrv\",\"LPA_CrdPrv\",\"SLEEP_CrdPrv\",\"CSMOKING_AgeAdjPrv\",\"LPA_AgeAdjPrv\",\"SLEEP_AgeAdjPrv\"]\n",
        ")\n",
        "\n",
        "health_train = Input(\n",
        "    type=\"mltable\",\n",
        "    path=f\"azureml:health_train_mltable:03\",\n",
        "    mode=\"download\",\n",
        ")\n",
        "health_test = Input(\n",
        "    type=\"mltable\",\n",
        "    path=f\"azureml:health_test_mltable:03\",\n",
        "    mode=\"download\",\n",
        ")\n",
        "\n",
        "\n",
        "@dsl.pipeline(\n",
        "    compute=compute_name,\n",
        "    description=\"Register Model for RAI Health example\",\n",
        "    experiment_name=f\"RAI_Health_Example_PY_{model_name_suffix}\",\n",
        ")\n",
        "def rai_demo_pipeline(target_column_name, training_data, test_data):\n",
        "    causal_discovery_job = causal_discovery_component(\n",
        "        data_mltable = training_data,\n",
        "        exclude_features=exclude_features\n",
        "    )\n",
        "\n",
        "    trained_model = linear_regression_component(\n",
        "        target_column_name=target_column_name,\n",
        "        training_data=training_data,\n",
        "        test_data=test_data,\n",
        "        exclude_features=exclude_features,\n",
        "        model_base_name=f\"{model_name}_{model_name_suffix}\"\n",
        "    )\n",
        "    trained_model.set_limits(timeout=7200)\n",
        "\n",
        "    # Initiate the RAIInsights\n",
        "    create_rai_job = rai_constructor_component(\n",
        "        title=\"RAI Dashboard Example\",\n",
        "        #title = trained_model.outputs.model_output,\n",
        "        task_type=\"regression\",\n",
        "        model_info=expected_model_id,\n",
        "        model_input=trained_model.outputs.model_output,\n",
        "        train_dataset=training_data,\n",
        "        test_dataset=test_data,\n",
        "        target_column_name=target_column_name,\n",
        "        #categorical_column_names=json.dumps(categorical_features),\n",
        "        #categorical_column_names=categorical_features,\n",
        "        use_model_dependency=True,\n",
        "    )\n",
        "    create_rai_job.set_limits(timeout=7200)\n",
        "    \n",
        "    # Add an explanation\n",
        "    explain_job = rai_explanation_component(\n",
        "        comment=\"Explanation for the housing dataset\",\n",
        "        rai_insights_dashboard=create_rai_job.outputs.rai_insights_dashboard,\n",
        "    )\n",
        "    explain_job.set_limits(timeout=7200)\n",
        "\n",
        "    # Add error analysis\n",
        "    erroranalysis_job = rai_erroranalysis_component(\n",
        "        rai_insights_dashboard=create_rai_job.outputs.rai_insights_dashboard,\n",
        "    )\n",
        "    erroranalysis_job.set_limits(timeout=7200)\n",
        "    \n",
        "    # Add causal analysis\n",
        "    causal_job = rai_causal_component(\n",
        "        rai_insights_dashboard=create_rai_job.outputs.rai_insights_dashboard,\n",
        "        treatment_features=treatment_features,\n",
        "    )\n",
        "    causal_job.set_limits(timeout=7200)\n",
        "\n",
        "    # Add counterfactual analysis\n",
        "    counterfactual_job = rai_counterfactual_component(\n",
        "        rai_insights_dashboard=create_rai_job.outputs.rai_insights_dashboard,\n",
        "        total_cfs=10,\n",
        "        desired_range=\"[0, 0.50]\",\n",
        "        features_to_vary = treatment_features,\n",
        "    )\n",
        "    counterfactual_job.set_limits(timeout=7200)\n",
        "    \n",
        "    # Combine everything\n",
        "    rai_gather_job = rai_gather_component(\n",
        "        constructor=create_rai_job.outputs.rai_insights_dashboard,\n",
        "        insight_1=explain_job.outputs.explanation,\n",
        "        insight_2=causal_job.outputs.causal,\n",
        "        insight_3=counterfactual_job.outputs.counterfactual,\n",
        "        insight_4=erroranalysis_job.outputs.error_analysis,\n",
        "    )\n",
        "    rai_gather_job.set_limits(timeout=7200)\n",
        "\n",
        "    rai_gather_job.outputs.dashboard.mode = \"upload\"\n",
        "    rai_gather_job.outputs.ux_json.mode = \"upload\"\n",
        "    \n",
        "    \"\"\"\n",
        "    #return {\"dashboard\": rai_gather_job.outputs.dashboard,\"ux_json\": rai_gather_job.outputs.ux_json,}\n",
        "    \"\"\"\n",
        "    return {}\n",
        "\n",
        "rai_demo_pipeline_job = rai_demo_pipeline(target_feature, health_train, health_test)"
      ],
      "outputs": [],
      "execution_count": 8,
      "metadata": {
        "gather": {
          "logged": 1720614535117
        }
      },
      "id": "a17f57bc"
    },
    {
      "cell_type": "code",
      "source": [
        "from azure.ai.ml.entities import PipelineJob\n",
        "from IPython.core.display import HTML\n",
        "from IPython.display import display\n",
        "\n",
        "\n",
        "def submit_and_wait(ml_client, pipeline_job) -> PipelineJob:\n",
        "    created_job = ml_client.jobs.create_or_update(pipeline_job)\n",
        "    assert created_job is not None\n",
        "\n",
        "    print(\"Pipeline job can be accessed in the following URL:\")\n",
        "    display(HTML('<a href=\"{0}\">{0}</a>'.format(created_job.studio_url)))\n",
        "\n",
        "    while created_job.status not in [\n",
        "        \"Completed\",\n",
        "        \"Failed\",\n",
        "        \"Canceled\",\n",
        "        \"NotResponding\",\n",
        "    ]:\n",
        "        time.sleep(30)\n",
        "        created_job = ml_client.jobs.get(created_job.name)\n",
        "        print(\"Latest status : {0}\".format(created_job.status))\n",
        "    assert created_job.status == \"Completed\"\n",
        "    return created_job\n",
        "\n",
        "\n",
        "# This is the actual submission\n",
        "#training_job = submit_and_wait(ml_client, model_registration_pipeline_job)"
      ],
      "outputs": [],
      "execution_count": 9,
      "metadata": {
        "gather": {
          "logged": 1720614535305
        },
        "jupyter": {
          "outputs_hidden": false,
          "source_hidden": false
        },
        "nteract": {
          "transient": {
            "deleting": false
          }
        }
      },
      "id": "3a2ffb0b-f0a4-441b-8316-b281c3b01666"
    },
    {
      "cell_type": "code",
      "source": [
        "#created_job = ml_client.jobs.create_or_update(rai_demo_pipeline_job)\n",
        "created_job = submit_and_wait(ml_client, rai_demo_pipeline_job)"
      ],
      "outputs": [
        {
          "output_type": "stream",
          "name": "stderr",
          "text": "Class AutoDeleteSettingSchema: This is an experimental class, and may change at any time. Please see https://aka.ms/azuremlexperimental for more information.\nClass AutoDeleteConditionSchema: This is an experimental class, and may change at any time. Please see https://aka.ms/azuremlexperimental for more information.\nClass BaseAutoDeleteSettingSchema: This is an experimental class, and may change at any time. Please see https://aka.ms/azuremlexperimental for more information.\nClass IntellectualPropertySchema: This is an experimental class, and may change at any time. Please see https://aka.ms/azuremlexperimental for more information.\nClass ProtectionLevelSchema: This is an experimental class, and may change at any time. Please see https://aka.ms/azuremlexperimental for more information.\nClass BaseIntellectualPropertySchema: This is an experimental class, and may change at any time. Please see https://aka.ms/azuremlexperimental for more information.\n\u001b[32mUploading causal_discovery (0.01 MBs): 100%|██████████| 5172/5172 [00:00<00:00, 49802.31it/s]\n\u001b[39m\n\npathOnCompute is not a known attribute of class <class 'azure.ai.ml._restclient.v2023_04_01_preview.models._models_py3.UriFolderJobOutput'> and will be ignored\npathOnCompute is not a known attribute of class <class 'azure.ai.ml._restclient.v2023_04_01_preview.models._models_py3.UriFolderJobOutput'> and will be ignored\n"
        },
        {
          "output_type": "stream",
          "name": "stdout",
          "text": "Pipeline job can be accessed in the following URL:\n"
        },
        {
          "output_type": "display_data",
          "data": {
            "text/plain": "<IPython.core.display.HTML object>",
            "text/html": "<a href=\"https://ml.azure.com/runs/silver_feather_h68bc7yswc?wsid=/subscriptions/e02ff02a-3d3d-4fa7-828d-54c7d1f4899f/resourcegroups/aauki_eli_demos/workspaces/aauki_eli_demos_amlws01&tid=b1ca6599-0d75-4087-b9db-4d1109790aac\">https://ml.azure.com/runs/silver_feather_h68bc7yswc?wsid=/subscriptions/e02ff02a-3d3d-4fa7-828d-54c7d1f4899f/resourcegroups/aauki_eli_demos/workspaces/aauki_eli_demos_amlws01&tid=b1ca6599-0d75-4087-b9db-4d1109790aac</a>"
          },
          "metadata": {}
        },
        {
          "output_type": "stream",
          "name": "stdout",
          "text": "Latest status : Running\nLatest status : Running\nLatest status : Running\nLatest status : Running\nLatest status : Running\nLatest status : Running\nLatest status : Running\nLatest status : Running\nLatest status : Running\nLatest status : Running\nLatest status : Running\nLatest status : Running\nLatest status : Running\nLatest status : Running\nLatest status : Running\nLatest status : Running\nLatest status : Running\nLatest status : Running\nLatest status : Running\nLatest status : Running\nLatest status : Running\nLatest status : Running\nLatest status : Running\nLatest status : Running\nLatest status : Running\nLatest status : Running\nLatest status : Running\nLatest status : Running\nLatest status : Running\nLatest status : Running\nLatest status : Running\nLatest status : Running\nLatest status : Running\nLatest status : Running\nLatest status : Running\nLatest status : Running\nLatest status : Running\nLatest status : Running\nLatest status : Running\nLatest status : Running\nLatest status : Running\nLatest status : Running\nLatest status : Running\nLatest status : Running\nLatest status : Running\nLatest status : Running\nLatest status : Running\nLatest status : Running\nLatest status : Running\nLatest status : Running\nLatest status : Running\nLatest status : Running\nLatest status : Running\nLatest status : Running\nLatest status : Running\nLatest status : Running\nLatest status : Running\nLatest status : Running\nLatest status : Running\nLatest status : Running\nLatest status : Running\nLatest status : Running\nLatest status : Running\nLatest status : Running\nLatest status : Running\nLatest status : Running\nLatest status : Running\nLatest status : Running\nLatest status : Running\nLatest status : Running\nLatest status : Running\nLatest status : Running\nLatest status : Running\nLatest status : Running\nLatest status : Running\nLatest status : Running\nLatest status : Running\nLatest status : Running\nLatest status : Running\nLatest status : Running\nLatest status : Running\nLatest status : Running\nLatest status : Running\nLatest status : Running\nLatest status : Running\nLatest status : Running\nLatest status : Running\nLatest status : Running\nLatest status : Running\nLatest status : Running\nLatest status : Running\nLatest status : Running\nLatest status : Running\nLatest status : Running\nLatest status : Running\nLatest status : Running\nLatest status : Running\nLatest status : Running\nLatest status : Running\nLatest status : Running\nLatest status : Running\nLatest status : Running\nLatest status : Running\nLatest status : Running\nLatest status : Running\nLatest status : Running\nLatest status : Running\nLatest status : Running\nLatest status : Running\nLatest status : Running\nLatest status : Running\nLatest status : Running\nLatest status : Running\nLatest status : Running\nLatest status : Running\nLatest status : Running\nLatest status : Running\nLatest status : Running\nLatest status : Running\nLatest status : Running\nLatest status : Running\nLatest status : Running\nLatest status : Running\nLatest status : Running\nLatest status : Running\nLatest status : Running\nLatest status : Running\nLatest status : Running\nLatest status : Running\nLatest status : Running\nLatest status : Running\nLatest status : Running\nLatest status : Running\nLatest status : Running\nLatest status : Running\nLatest status : Running\nLatest status : Running\nLatest status : Running\nLatest status : Running\nLatest status : Running\nLatest status : Running\nLatest status : Running\nLatest status : Running\nLatest status : Running\nLatest status : Running\nLatest status : Running\nLatest status : Running\nLatest status : Running\nLatest status : Running\nLatest status : Running\nLatest status : Running\nLatest status : Running\nLatest status : Running\nLatest status : Running\nLatest status : Running\nLatest status : Running\nLatest status : Running\nLatest status : Running\nLatest status : Running\nLatest status : Running\nLatest status : Running\nLatest status : Running\nLatest status : Running\nLatest status : Running\nLatest status : Running\nLatest status : Running\nLatest status : Running\nLatest status : Running\nLatest status : Running\nLatest status : Running\nLatest status : Running\nLatest status : Running\nLatest status : Running\nLatest status : Running\nLatest status : Running\nLatest status : Running\nLatest status : Running\nLatest status : Running\nLatest status : Running\nLatest status : Running\nLatest status : Running\nLatest status : Running\nLatest status : Running\nLatest status : Running\nLatest status : Running\nLatest status : Running\nLatest status : Running\nLatest status : Running\nLatest status : Running\nLatest status : Running\nLatest status : Running\nLatest status : Running\nLatest status : Running\nLatest status : Running\nLatest status : Running\nLatest status : Running\nLatest status : Running\nLatest status : Running\nLatest status : Running\nLatest status : Running\nLatest status : Running\nLatest status : Running\nLatest status : Running\nLatest status : Running\nLatest status : Running\nLatest status : Running\nLatest status : Running\nLatest status : Running\nLatest status : Running\nLatest status : Running\nLatest status : Running\nLatest status : Running\nLatest status : Running\nLatest status : Running\nLatest status : Running\nLatest status : Running\nLatest status : Running\nLatest status : Running\nLatest status : Running\nLatest status : Running\nLatest status : Running\nLatest status : Running\nLatest status : Running\nLatest status : Running\nLatest status : Running\nLatest status : Running\nLatest status : Running\nLatest status : Running\nLatest status : Running\nLatest status : Running\nLatest status : Running\nLatest status : Running\nLatest status : Running\nLatest status : Running\nLatest status : Running\nLatest status : Running\nLatest status : Running\nLatest status : Running\nLatest status : Running\nLatest status : Running\nLatest status : Running\nLatest status : Running\nLatest status : Running\nLatest status : Running\nLatest status : Running\nLatest status : Running\nLatest status : Running\nLatest status : Running\nLatest status : Running\nLatest status : Running\nLatest status : Running\nLatest status : Running\nLatest status : Running\nLatest status : Running\nLatest status : Running\nLatest status : Running\nLatest status : Running\nLatest status : Running\nLatest status : Running\nLatest status : Running\nLatest status : Running\nLatest status : Running\nLatest status : Running\nLatest status : Running\nLatest status : Running\nLatest status : Running\nLatest status : Running\nLatest status : Running\nLatest status : Running\nLatest status : Running\nLatest status : Running\nLatest status : Running\nLatest status : Running\nLatest status : Running\nLatest status : Running\nLatest status : Running\nLatest status : Running\nLatest status : Running\nLatest status : Running\nLatest status : Running\nLatest status : Running\nLatest status : Running\nLatest status : Running\nLatest status : Running\nLatest status : Running\nLatest status : Running\nLatest status : Running\nLatest status : Running\nLatest status : Running\nLatest status : Running\nLatest status : Running\nLatest status : Running\nLatest status : Running\nLatest status : Running\nLatest status : Running\nLatest status : Running\nLatest status : Running\nLatest status : Running\nLatest status : Running\nLatest status : Running\nLatest status : Running\nLatest status : Running\nLatest status : Running\nLatest status : Running\nLatest status : Running\nLatest status : Running\nLatest status : Running\nLatest status : Running\nLatest status : Running\nLatest status : Running\nLatest status : Running\nLatest status : Running\nLatest status : Running\nLatest status : Running\nLatest status : Running\nLatest status : Running\nLatest status : Running\nLatest status : Running\nLatest status : Running\nLatest status : Running\nLatest status : Running\nLatest status : Running\nLatest status : Running\nLatest status : Running\nLatest status : Running\nLatest status : Running\nLatest status : Running\nLatest status : Running\nLatest status : Running\nLatest status : Running\nLatest status : Running\nLatest status : Running\nLatest status : Running\nLatest status : Running\nLatest status : Running\nLatest status : Running\nLatest status : Running\nLatest status : Running\nLatest status : Running\nLatest status : Running\nLatest status : Running\nLatest status : Running\nLatest status : Running\nLatest status : Running\nLatest status : Running\nLatest status : Running\nLatest status : Running\nLatest status : Running\nLatest status : Running\nLatest status : Running\nLatest status : Running\nLatest status : Running\nLatest status : Running\nLatest status : Running\nLatest status : Running\nLatest status : Running\nLatest status : Running\nLatest status : Running\nLatest status : Running\nLatest status : Running\nLatest status : Running\nLatest status : Running\nLatest status : Running\nLatest status : Running\nLatest status : Running\nLatest status : Running\nLatest status : Running\nLatest status : Running\nLatest status : Running\nLatest status : Running\nLatest status : Running\nLatest status : Running\nLatest status : Running\nLatest status : Running\nLatest status : Running\nLatest status : Running\nLatest status : Running\nLatest status : Running\nLatest status : Running\nLatest status : Running\nLatest status : Running\nLatest status : Running\nLatest status : Running\nLatest status : Running\nLatest status : Running\nLatest status : Running\nLatest status : Running\nLatest status : Running\nLatest status : Running\nLatest status : Running\nLatest status : Running\nLatest status : Running\nLatest status : Running\nLatest status : Running\nLatest status : Running\nLatest status : Running\nLatest status : Running\nLatest status : Running\nLatest status : Running\nLatest status : Running\nLatest status : Running\nLatest status : Running\nLatest status : Running\nLatest status : Running\nLatest status : Running\nLatest status : Running\nLatest status : Running\nLatest status : Running\nLatest status : Running\nLatest status : Running\nLatest status : Running\nLatest status : Running\nLatest status : Running\nLatest status : Running\nLatest status : Running\nLatest status : Running\nLatest status : Running\nLatest status : Running\nLatest status : Running\nLatest status : Running\nLatest status : Running\nLatest status : Running\nLatest status : Running\nLatest status : Running\nLatest status : Running\nLatest status : Running\nLatest status : Running\nLatest status : Running\nLatest status : Running\nLatest status : Running\nLatest status : Running\nLatest status : Running\nLatest status : Running\nLatest status : Running\nLatest status : Running\nLatest status : Running\nLatest status : Running\nLatest status : Running\nLatest status : Running\nLatest status : Running\nLatest status : Running\nLatest status : Running\nLatest status : Running\nLatest status : Running\nLatest status : Running\nLatest status : Running\n"
        }
      ],
      "execution_count": 10,
      "metadata": {
        "gather": {
          "logged": 1720609580298
        }
      },
      "id": "bc4aaf1e"
    }
  ],
  "metadata": {
    "categories": [
      "SDK v2",
      "sdk",
      "python",
      "responsible-ai",
      "tabular"
    ],
    "kernel_info": {
      "name": "python310-sdkv2"
    },
    "kernelspec": {
      "name": "python310-sdkv2",
      "language": "python",
      "display_name": "Python 3.10 - SDK v2"
    },
    "language_info": {
      "name": "python",
      "version": "3.10.14",
      "mimetype": "text/x-python",
      "codemirror_mode": {
        "name": "ipython",
        "version": 3
      },
      "pygments_lexer": "ipython3",
      "nbconvert_exporter": "python",
      "file_extension": ".py"
    },
    "microsoft": {
      "host": {
        "AzureML": {
          "notebookHasBeenCompleted": true
        }
      },
      "ms_spell_check": {
        "ms_spell_check_language": "en"
      }
    },
    "nteract": {
      "version": "nteract-front-end@1.0.0"
    }
  },
  "nbformat": 4,
  "nbformat_minor": 5
}