{
  "cells": [
    {
      "cell_type": "markdown",
      "id": "587f4596",
      "metadata": {},
      "source": [
        "# Set-up for  housing price predictions Responsible AI Demos"
      ]
    },
    {
      "cell_type": "markdown",
      "id": "df6550b0",
      "metadata": {},
      "source": [
        "This notebook demonstrates the use of the AzureML RAI components to assess a classification model trained on Kaggle's apartments dataset (https://www.kaggle.com/alphaepsilon/housing-prices-dataset). The model predicts if the house sells for more than median price or not. It is a reimplementation of the [notebook of the same name](https://github.com/microsoft/responsible-ai-toolbox/blob/main/notebooks/responsibleaidashboard/responsibleaidashboard-housing-classification-model-debugging.ipynb) in the [Responsible AI toolbox repo](https://github.com/microsoft/responsible-ai-toolbox).\n",
        "\n"
      ]
    },
    {
      "cell_type": "code",
      "execution_count": null,
      "id": "e5e00dc5",
      "metadata": {},
      "outputs": [],
      "source": [
        "import os\n",
        "from dotenv import load_dotenv\n",
        "import pandas as pd\n",
        "import mltable\n",
        "\n",
        "from azure.ai.ml import MLClient\n",
        "from azure.identity import DefaultAzureCredential\n",
        "from azure.ai.ml.entities import Data\n",
        "from azure.ai.ml.constants import AssetTypes\n",
        "from azure.ai.ml.entities import AmlCompute\n"
      ]
    },
    {
      "cell_type": "code",
      "execution_count": null,
      "id": "5361bc0d",
      "metadata": {},
      "outputs": [],
      "source": [
        "load_dotenv()\n",
        "SUBSCRIPTION_ID = os.environ.get(\"SUBSCRIPTION_ID\")\n",
        "RESOURCE_GROUP = os.environ.get(\"RESOURCE_GROUP\")\n",
        "AML_WORKSPACE_NAME = os.environ.get(\"AML_WORKSPACE_NAME\")\n",
        "print(\"AML_WORKSPACE_NAME:\", AML_WORKSPACE_NAME)\n",
        "\n",
        "credential = DefaultAzureCredential()\n",
        "ml_client = MLClient(credential=credential, subscription_id=SUBSCRIPTION_ID, resource_group_name=RESOURCE_GROUP, workspace_name=AML_WORKSPACE_NAME, )"
      ]
    },
    {
      "cell_type": "markdown",
      "id": "7ce18ea3",
      "metadata": {},
      "source": [
        "Data"
      ]
    },
    {
      "cell_type": "code",
      "execution_count": null,
      "id": "7ebb1b96",
      "metadata": {},
      "outputs": [],
      "source": [
        "train_data_path = \"../data-housing-classification/train\"\n",
        "test_data_path = \"../data-housing-classification/test/\"\n",
        "tbl = mltable.load(train_data_path)\n",
        "train_df: pd.DataFrame = tbl.to_pandas_dataframe()\n",
        "\n",
        "# test dataset should have less than 5000 rows\n",
        "test_df = mltable.load(test_data_path).to_pandas_dataframe()\n",
        "assert len(test_df.index) <= 5000\n",
        "\n",
        "display(train_df)"
      ]
    },
    {
      "cell_type": "code",
      "execution_count": null,
      "id": "74d8297e",
      "metadata": {},
      "outputs": [],
      "source": [
        "input_train_data = \"housing_train_pq\"\n",
        "input_test_data = \"housing_test_pq\"\n",
        "\n",
        "rai_housing_example_version_string = \"1\"\n",
        "\n",
        "try:\n",
        "    # Try getting data already registered in workspace\n",
        "    train_data = ml_client.data.get(name=input_train_data, version=rai_housing_example_version_string)\n",
        "    test_data = ml_client.data.get(name=input_test_data, version=rai_housing_example_version_string)\n",
        "except Exception as e:\n",
        "    train_data = Data(\n",
        "        path=train_data_path,\n",
        "        type=AssetTypes.MLTABLE,\n",
        "        description=\"RAI housing example training data\",\n",
        "        name=input_train_data,\n",
        "        version=rai_housing_example_version_string,\n",
        "    )\n",
        "    ml_client.data.create_or_update(train_data)\n",
        "\n",
        "    test_data = Data(\n",
        "        path=test_data_path,\n",
        "        type=AssetTypes.MLTABLE,\n",
        "        description=\"RAI housing example test data\",\n",
        "        name=input_test_data,\n",
        "        version=rai_housing_example_version_string,\n",
        "    )\n",
        "    ml_client.data.create_or_update(test_data)"
      ]
    },
    {
      "cell_type": "markdown",
      "id": "5b17dd19",
      "metadata": {},
      "source": [
        "Cluster Compute"
      ]
    },
    {
      "cell_type": "code",
      "execution_count": null,
      "id": "cdcd586e",
      "metadata": {},
      "outputs": [],
      "source": [
        "\n",
        "compute_name = \"rai-cluster\"\n",
        "\n",
        "all_compute_names = [x.name for x in ml_client.compute.list()]\n",
        "\n",
        "if compute_name in all_compute_names:\n",
        "    print(f\"Found existing compute: {compute_name}\")\n",
        "else:\n",
        "    my_compute = AmlCompute(\n",
        "        name=compute_name,\n",
        "        size=\"Standard_D2_v2\",\n",
        "        min_instances=0,\n",
        "        max_instances=4,\n",
        "        idle_time_before_scale_down=3600,\n",
        "    )\n",
        "    ml_client.compute.begin_create_or_update(my_compute).result()\n",
        "    print(\"Initiated compute creation\")"
      ]
    },
    {
      "cell_type": "markdown",
      "id": "08984e95",
      "metadata": {},
      "source": [
        "RAI registry"
      ]
    },
    {
      "cell_type": "code",
      "execution_count": null,
      "id": "f105e9a1",
      "metadata": {},
      "outputs": [],
      "source": [
        "# Get handle to azureml registry for the RAI built in components\n",
        "version_string = \"1\"\n",
        "registry_name = \"azureml\"\n",
        "ml_client_registry = MLClient(\n",
        "    credential=credential,\n",
        "    subscription_id=SUBSCRIPTION_ID,\n",
        "    resource_group_name=RESOURCE_GROUP,\n",
        "    registry_name=registry_name,\n",
        ")\n",
        "print(ml_client_registry)"
      ]
    },
    {
      "cell_type": "code",
      "execution_count": null,
      "id": "b1efc849",
      "metadata": {},
      "outputs": [],
      "source": [
        "label = \"latest\"\n",
        "\n",
        "rai_constructor_component = ml_client_registry.components.get(\n",
        "    name=\"microsoft_azureml_rai_tabular_insight_constructor\", label=label\n",
        ")\n",
        "\n",
        "# We get latest version and use the same version for all components\n",
        "version = rai_constructor_component.version\n",
        "print(\"The current version of RAI built-in components is: \" + version)\n",
        "\n",
        "rai_explanation_component = ml_client_registry.components.get(\n",
        "    name=\"microsoft_azureml_rai_tabular_explanation\", version=version\n",
        ")\n",
        "\n",
        "rai_causal_component = ml_client_registry.components.get(\n",
        "    name=\"microsoft_azureml_rai_tabular_causal\", version=version\n",
        ")\n",
        "\n",
        "rai_counterfactual_component = ml_client_registry.components.get(\n",
        "    name=\"microsoft_azureml_rai_tabular_counterfactual\", version=version\n",
        ")\n",
        "\n",
        "rai_erroranalysis_component = ml_client_registry.components.get(\n",
        "    name=\"microsoft_azureml_rai_tabular_erroranalysis\", version=version\n",
        ")\n",
        "\n",
        "rai_gather_component = ml_client_registry.components.get(\n",
        "    name=\"microsoft_azureml_rai_tabular_insight_gather\", version=version\n",
        ")\n",
        "\n",
        "rai_scorecard_component = ml_client_registry.components.get(\n",
        "    name=\"microsoft_azureml_rai_tabular_score_card\", version=version\n",
        ")"
      ]
    }
  ],
  "metadata": {
    "categories": [
      "SDK v2",
      "sdk",
      "python",
      "responsible-ai",
      "tabular"
    ],
    "kernelspec": {
      "display_name": "azureml_py310_sdkv2",
      "language": "python",
      "name": "python3"
    },
    "language_info": {
      "codemirror_mode": {
        "name": "ipython",
        "version": 3
      },
      "file_extension": ".py",
      "mimetype": "text/x-python",
      "name": "python",
      "nbconvert_exporter": "python",
      "pygments_lexer": "ipython3",
      "version": "3.10.11"
    }
  },
  "nbformat": 4,
  "nbformat_minor": 5
}
