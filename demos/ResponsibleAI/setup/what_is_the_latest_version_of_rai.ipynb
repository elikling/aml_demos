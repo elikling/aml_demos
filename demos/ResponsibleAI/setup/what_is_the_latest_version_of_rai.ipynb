{
  "cells": [
    {
      "cell_type": "markdown",
      "id": "587f4596",
      "metadata": {},
      "source": [
        "# Set-up for  housing price predictions Responsible AI Demos"
      ]
    },
    {
      "cell_type": "markdown",
      "id": "df6550b0",
      "metadata": {},
      "source": [
        "This notebook demonstrates the use of the AzureML RAI components to assess a classification model trained on Kaggle's apartments dataset (https://www.kaggle.com/alphaepsilon/housing-prices-dataset). The model predicts if the house sells for more than median price or not. It is a reimplementation of the [notebook of the same name](https://github.com/microsoft/responsible-ai-toolbox/blob/main/notebooks/responsibleaidashboard/responsibleaidashboard-housing-classification-model-debugging.ipynb) in the [Responsible AI toolbox repo](https://github.com/microsoft/responsible-ai-toolbox).\n",
        "\n"
      ]
    },
    {
      "cell_type": "code",
      "execution_count": 1,
      "id": "e5e00dc5",
      "metadata": {},
      "outputs": [],
      "source": [
        "import os\n",
        "from dotenv import load_dotenv\n",
        "import pandas as pd\n",
        "import mltable\n",
        "\n",
        "from azure.ai.ml import MLClient\n",
        "from azure.identity import DefaultAzureCredential\n",
        "from azure.ai.ml.entities import Data\n",
        "from azure.ai.ml.constants import AssetTypes\n",
        "from azure.ai.ml.entities import AmlCompute\n"
      ]
    },
    {
      "cell_type": "code",
      "execution_count": 2,
      "id": "5361bc0d",
      "metadata": {},
      "outputs": [
        {
          "name": "stdout",
          "output_type": "stream",
          "text": [
            "AML_WORKSPACE_NAME: aauki_eli_demos_amlws01\n"
          ]
        }
      ],
      "source": [
        "load_dotenv()\n",
        "SUBSCRIPTION_ID = os.environ.get(\"SUBSCRIPTION_ID\")\n",
        "RESOURCE_GROUP = os.environ.get(\"RESOURCE_GROUP\")\n",
        "AML_WORKSPACE_NAME = os.environ.get(\"AML_WORKSPACE_NAME\")\n",
        "print(\"AML_WORKSPACE_NAME:\", AML_WORKSPACE_NAME)\n",
        "\n",
        "credential = DefaultAzureCredential()\n",
        "ml_client = MLClient(credential=credential, subscription_id=SUBSCRIPTION_ID, resource_group_name=RESOURCE_GROUP, workspace_name=AML_WORKSPACE_NAME, )"
      ]
    },
    {
      "cell_type": "markdown",
      "id": "08984e95",
      "metadata": {},
      "source": [
        "RAI registry"
      ]
    },
    {
      "cell_type": "code",
      "execution_count": 3,
      "id": "f105e9a1",
      "metadata": {},
      "outputs": [
        {
          "name": "stdout",
          "output_type": "stream",
          "text": [
            "MLClient(credential=<azure.identity._credentials.default.DefaultAzureCredential object at 0x7f0742eed050>,\n",
            "         subscription_id=6c6683e9-e5fe-4038-8519-ce6ebec2ba15,\n",
            "         resource_group_name=registry-builtin-prod-eastus-01,\n",
            "         workspace_name=None)\n"
          ]
        }
      ],
      "source": [
        "# Get handle to azureml registry for the RAI built in components\n",
        "version_string = \"1\"\n",
        "registry_name = \"azureml\"\n",
        "ml_client_registry = MLClient(\n",
        "    credential=credential,\n",
        "    subscription_id=SUBSCRIPTION_ID,\n",
        "    resource_group_name=RESOURCE_GROUP,\n",
        "    registry_name=registry_name,\n",
        ")\n",
        "print(ml_client_registry)"
      ]
    },
    {
      "cell_type": "code",
      "execution_count": 4,
      "id": "b1efc849",
      "metadata": {},
      "outputs": [
        {
          "name": "stdout",
          "output_type": "stream",
          "text": [
            "The current version of RAI built-in components is: 0.14.0\n"
          ]
        }
      ],
      "source": [
        "label = \"latest\"\n",
        "\n",
        "rai_constructor_component = ml_client_registry.components.get(\n",
        "    name=\"microsoft_azureml_rai_tabular_insight_constructor\", label=label\n",
        ")\n",
        "\n",
        "# We get latest version and use the same version for all components\n",
        "version = rai_constructor_component.version\n",
        "print(\"The current version of RAI built-in components is: \" + version)\n",
        "\n",
        "rai_explanation_component = ml_client_registry.components.get(\n",
        "    name=\"microsoft_azureml_rai_tabular_explanation\", version=version\n",
        ")\n",
        "\n",
        "rai_causal_component = ml_client_registry.components.get(\n",
        "    name=\"microsoft_azureml_rai_tabular_causal\", version=version\n",
        ")\n",
        "\n",
        "rai_counterfactual_component = ml_client_registry.components.get(\n",
        "    name=\"microsoft_azureml_rai_tabular_counterfactual\", version=version\n",
        ")\n",
        "\n",
        "rai_erroranalysis_component = ml_client_registry.components.get(\n",
        "    name=\"microsoft_azureml_rai_tabular_erroranalysis\", version=version\n",
        ")\n",
        "\n",
        "rai_gather_component = ml_client_registry.components.get(\n",
        "    name=\"microsoft_azureml_rai_tabular_insight_gather\", version=version\n",
        ")\n",
        "\n",
        "rai_scorecard_component = ml_client_registry.components.get(\n",
        "    name=\"microsoft_azureml_rai_tabular_score_card\", version=version\n",
        ")"
      ]
    }
  ],
  "metadata": {
    "categories": [
      "SDK v2",
      "sdk",
      "python",
      "responsible-ai",
      "tabular"
    ],
    "kernelspec": {
      "display_name": "azureml_py310_sdkv2",
      "language": "python",
      "name": "python3"
    },
    "language_info": {
      "codemirror_mode": {
        "name": "ipython",
        "version": 3
      },
      "file_extension": ".py",
      "mimetype": "text/x-python",
      "name": "python",
      "nbconvert_exporter": "python",
      "pygments_lexer": "ipython3",
      "version": "3.11.9"
    }
  },
  "nbformat": 4,
  "nbformat_minor": 5
}
