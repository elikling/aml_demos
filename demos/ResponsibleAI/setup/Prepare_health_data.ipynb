{
  "cells": [
    {
      "cell_type": "markdown",
      "source": [
        "The data is long and thin.\n",
        "I will make it analysis ready in MLtable format "
      ],
      "metadata": {}
    },
    {
      "cell_type": "code",
      "source": [
        "#%pip install python-dotenv -U"
      ],
      "outputs": [],
      "execution_count": 1,
      "metadata": {
        "gather": {
          "logged": 1720533218037
        }
      }
    },
    {
      "cell_type": "code",
      "source": [
        "import numpy as np\n",
        "import pandas as pd\n",
        "from dotenv import load_dotenv\n",
        "pd.set_option('display.float_format', '{:.2f}'.format)\n",
        "from sklearn.model_selection import train_test_split\n",
        "from azureml.core import Workspace\n",
        "from azure.ai.ml import MLClient\n",
        "from azure.identity import DefaultAzureCredential\n",
        "from azure.ai.ml.entities import Data\n",
        "from azure.ai.ml.constants import AssetTypes\n",
        "import mltable\n",
        "from mltable import MLTableHeaders, MLTableFileEncoding, DataType"
      ],
      "outputs": [],
      "execution_count": 11,
      "metadata": {
        "gather": {
          "logged": 1720533253437
        }
      }
    },
    {
      "cell_type": "code",
      "source": [
        "def create_folder_if_not_exists(folder_path):\n",
        "    \"\"\"\n",
        "    Creates a folder if it doesn't exist.\n",
        "\n",
        "    Args:\n",
        "        folder_path (str): The path to the folder.\n",
        "\n",
        "    Returns:\n",
        "        None\n",
        "    \"\"\"\n",
        "    if not os.path.exists(folder_path):\n",
        "        os.makedirs(folder_path)\n",
        "        print(f\"Folder '{folder_path}' created successfully.\")\n",
        "    else:\n",
        "        print(f\"Folder '{folder_path}' already exists.\")"
      ],
      "outputs": [],
      "execution_count": 12,
      "metadata": {
        "gather": {
          "logged": 1720533254440
        }
      }
    },
    {
      "cell_type": "code",
      "source": [
        "raw_df = pd.read_csv(\"../../../demo_data/PLACES__Local_Data_for_Better_Health__County_Data_2023_release_20240624.csv\")\n",
        "#Location ID 59 United States. drop it form the data\n",
        "raw_df = raw_df[raw_df['LocationID']> 59]\n",
        "raw_df['MeasureId_type'] = raw_df['MeasureId']+'_'+raw_df['DataValueTypeID']\n",
        "raw_df.head()"
      ],
      "outputs": [
        {
          "output_type": "execute_result",
          "execution_count": 13,
          "data": {
            "text/plain": "   Year StateAbbr   StateDesc LocationName DataSource         Category  \\\n0  2021        AR    Arkansas       Conway      BRFSS  Health Outcomes   \n1  2020        AZ     Arizona     Maricopa      BRFSS       Prevention   \n2  2021        AR    Arkansas      Jackson      BRFSS  Health Outcomes   \n3  2020        CA  California      Alameda      BRFSS  Health Outcomes   \n4  2021        AR    Arkansas       Ashley      BRFSS  Health Outcomes   \n\n                                        Measure Data_Value_Unit  \\\n0        Arthritis among adults aged >=18 years               %   \n1  Mammography use among women aged 50-74 years               %   \n2          Obesity among adults aged >=18 years               %   \n3   All teeth lost among adults aged >=65 years               %   \n4       Depression among adults aged >=18 years               %   \n\n    Data_Value_Type  Data_Value  ...  Low_Confidence_Limit  \\\n0  Crude prevalence       33.90  ...                 29.10   \n1  Crude prevalence       69.00  ...                 65.50   \n2  Crude prevalence       40.10  ...                 32.50   \n3  Crude prevalence        6.70  ...                  4.80   \n4  Crude prevalence       25.40  ...                 21.30   \n\n   High_Confidence_Limit  TotalPopulation  LocationID  CategoryID   MeasureId  \\\n0                  38.80            20873        5029     HLTHOUT   ARTHRITIS   \n1                  72.30          4496588        4013     PREVENT    MAMMOUSE   \n2                  47.80            16811        5067     HLTHOUT     OBESITY   \n3                   9.20          1648556        6001     HLTHOUT   TEETHLOST   \n4                  30.00            18674        5003     HLTHOUT  DEPRESSION   \n\n  DataValueTypeID Short_Question_Text                      Geolocation  \\\n0          CrdPrv           Arthritis    POINT (-92.6892479 35.265702)   \n1          CrdPrv         Mammography  POINT (-112.4989296 33.3451756)   \n2          CrdPrv             Obesity   POINT (-91.2232051 35.5964674)   \n3          CrdPrv      All Teeth Lost   POINT (-121.912488 37.6471385)   \n4          CrdPrv          Depression   POINT (-91.7722672 33.1908354)   \n\n      MeasureId_type  \n0   ARTHRITIS_CrdPrv  \n1    MAMMOUSE_CrdPrv  \n2     OBESITY_CrdPrv  \n3   TEETHLOST_CrdPrv  \n4  DEPRESSION_CrdPrv  \n\n[5 rows x 22 columns]",
            "text/html": "<div>\n<style scoped>\n    .dataframe tbody tr th:only-of-type {\n        vertical-align: middle;\n    }\n\n    .dataframe tbody tr th {\n        vertical-align: top;\n    }\n\n    .dataframe thead th {\n        text-align: right;\n    }\n</style>\n<table border=\"1\" class=\"dataframe\">\n  <thead>\n    <tr style=\"text-align: right;\">\n      <th></th>\n      <th>Year</th>\n      <th>StateAbbr</th>\n      <th>StateDesc</th>\n      <th>LocationName</th>\n      <th>DataSource</th>\n      <th>Category</th>\n      <th>Measure</th>\n      <th>Data_Value_Unit</th>\n      <th>Data_Value_Type</th>\n      <th>Data_Value</th>\n      <th>...</th>\n      <th>Low_Confidence_Limit</th>\n      <th>High_Confidence_Limit</th>\n      <th>TotalPopulation</th>\n      <th>LocationID</th>\n      <th>CategoryID</th>\n      <th>MeasureId</th>\n      <th>DataValueTypeID</th>\n      <th>Short_Question_Text</th>\n      <th>Geolocation</th>\n      <th>MeasureId_type</th>\n    </tr>\n  </thead>\n  <tbody>\n    <tr>\n      <th>0</th>\n      <td>2021</td>\n      <td>AR</td>\n      <td>Arkansas</td>\n      <td>Conway</td>\n      <td>BRFSS</td>\n      <td>Health Outcomes</td>\n      <td>Arthritis among adults aged &gt;=18 years</td>\n      <td>%</td>\n      <td>Crude prevalence</td>\n      <td>33.90</td>\n      <td>...</td>\n      <td>29.10</td>\n      <td>38.80</td>\n      <td>20873</td>\n      <td>5029</td>\n      <td>HLTHOUT</td>\n      <td>ARTHRITIS</td>\n      <td>CrdPrv</td>\n      <td>Arthritis</td>\n      <td>POINT (-92.6892479 35.265702)</td>\n      <td>ARTHRITIS_CrdPrv</td>\n    </tr>\n    <tr>\n      <th>1</th>\n      <td>2020</td>\n      <td>AZ</td>\n      <td>Arizona</td>\n      <td>Maricopa</td>\n      <td>BRFSS</td>\n      <td>Prevention</td>\n      <td>Mammography use among women aged 50-74 years</td>\n      <td>%</td>\n      <td>Crude prevalence</td>\n      <td>69.00</td>\n      <td>...</td>\n      <td>65.50</td>\n      <td>72.30</td>\n      <td>4496588</td>\n      <td>4013</td>\n      <td>PREVENT</td>\n      <td>MAMMOUSE</td>\n      <td>CrdPrv</td>\n      <td>Mammography</td>\n      <td>POINT (-112.4989296 33.3451756)</td>\n      <td>MAMMOUSE_CrdPrv</td>\n    </tr>\n    <tr>\n      <th>2</th>\n      <td>2021</td>\n      <td>AR</td>\n      <td>Arkansas</td>\n      <td>Jackson</td>\n      <td>BRFSS</td>\n      <td>Health Outcomes</td>\n      <td>Obesity among adults aged &gt;=18 years</td>\n      <td>%</td>\n      <td>Crude prevalence</td>\n      <td>40.10</td>\n      <td>...</td>\n      <td>32.50</td>\n      <td>47.80</td>\n      <td>16811</td>\n      <td>5067</td>\n      <td>HLTHOUT</td>\n      <td>OBESITY</td>\n      <td>CrdPrv</td>\n      <td>Obesity</td>\n      <td>POINT (-91.2232051 35.5964674)</td>\n      <td>OBESITY_CrdPrv</td>\n    </tr>\n    <tr>\n      <th>3</th>\n      <td>2020</td>\n      <td>CA</td>\n      <td>California</td>\n      <td>Alameda</td>\n      <td>BRFSS</td>\n      <td>Health Outcomes</td>\n      <td>All teeth lost among adults aged &gt;=65 years</td>\n      <td>%</td>\n      <td>Crude prevalence</td>\n      <td>6.70</td>\n      <td>...</td>\n      <td>4.80</td>\n      <td>9.20</td>\n      <td>1648556</td>\n      <td>6001</td>\n      <td>HLTHOUT</td>\n      <td>TEETHLOST</td>\n      <td>CrdPrv</td>\n      <td>All Teeth Lost</td>\n      <td>POINT (-121.912488 37.6471385)</td>\n      <td>TEETHLOST_CrdPrv</td>\n    </tr>\n    <tr>\n      <th>4</th>\n      <td>2021</td>\n      <td>AR</td>\n      <td>Arkansas</td>\n      <td>Ashley</td>\n      <td>BRFSS</td>\n      <td>Health Outcomes</td>\n      <td>Depression among adults aged &gt;=18 years</td>\n      <td>%</td>\n      <td>Crude prevalence</td>\n      <td>25.40</td>\n      <td>...</td>\n      <td>21.30</td>\n      <td>30.00</td>\n      <td>18674</td>\n      <td>5003</td>\n      <td>HLTHOUT</td>\n      <td>DEPRESSION</td>\n      <td>CrdPrv</td>\n      <td>Depression</td>\n      <td>POINT (-91.7722672 33.1908354)</td>\n      <td>DEPRESSION_CrdPrv</td>\n    </tr>\n  </tbody>\n</table>\n<p>5 rows × 22 columns</p>\n</div>"
          },
          "metadata": {}
        }
      ],
      "execution_count": 13,
      "metadata": {
        "gather": {
          "logged": 1720533256369
        }
      }
    },
    {
      "cell_type": "code",
      "source": [
        "measure_table = raw_df['MeasureId'].value_counts().reset_index()\n",
        "measure_table.columns = ['MeasureId', 'Count']\n",
        "measure_table = measure_table.sort_values('MeasureId')\n",
        "measure_table = measure_table.reset_index(drop=True)\n",
        "print(measure_table)"
      ],
      "outputs": [
        {
          "output_type": "stream",
          "name": "stdout",
          "text": "       MeasureId  Count\n0        ACCESS2   6152\n1      ARTHRITIS   6152\n2          BINGE   6152\n3         BPHIGH   6152\n4          BPMED   6152\n5         CANCER   6152\n6        CASTHMA   6152\n7       CERVICAL   6286\n8            CHD   6152\n9        CHECKUP   6152\n10    CHOLSCREEN   6152\n11     COGNITION   6152\n12  COLON_SCREEN   6286\n13          COPD   6152\n14         COREM   6286\n15         COREW   6286\n16      CSMOKING   6152\n17        DENTAL   6286\n18    DEPRESSION   6152\n19      DIABETES   6152\n20    DISABILITY   6152\n21         GHLTH   6152\n22       HEARING   6152\n23      HIGHCHOL   6152\n24     INDEPLIVE   6152\n25        KIDNEY   6152\n26           LPA   6152\n27      MAMMOUSE   6286\n28         MHLTH   6152\n29      MOBILITY   6152\n30       OBESITY   6152\n31         PHLTH   6152\n32      SELFCARE   6152\n33         SLEEP   6286\n34        STROKE   6152\n35     TEETHLOST   6286\n36        VISION   6152\n"
        }
      ],
      "execution_count": 14,
      "metadata": {
        "gather": {
          "logged": 1720533256518
        }
      }
    },
    {
      "cell_type": "code",
      "source": [
        "#I thought the populations number would be differnet for each year - that is not the case.\n",
        "Locations = raw_df.groupby(['LocationID','LocationName','StateAbbr','StateDesc']).first().reset_index()\n",
        "Locations = Locations[['LocationID','LocationName','StateAbbr','StateDesc', 'TotalPopulation']]\n",
        "Locations = Locations.sort_values(['LocationID','LocationName','StateAbbr','StateDesc'])\n",
        "Locations = Locations.reset_index(drop=True)\n",
        "print(Locations.TotalPopulation.describe())\n",
        "Locations.TotalPopulation.hist()\n",
        "print(Locations)"
      ],
      "outputs": [
        {
          "output_type": "stream",
          "name": "stdout",
          "text": "count      3143.00\nmean     105597.76\nstd      333049.86\nmin          57.00\n25%       10828.00\n50%       25787.00\n75%       68523.50\nmax     9829544.00\nName: TotalPopulation, dtype: float64\n      LocationID LocationName StateAbbr StateDesc  TotalPopulation\n0           1001      Autauga        AL   Alabama            59095\n1           1003      Baldwin        AL   Alabama           239294\n2           1005      Barbour        AL   Alabama            24964\n3           1007         Bibb        AL   Alabama            22477\n4           1009       Blount        AL   Alabama            59041\n...          ...          ...       ...       ...              ...\n3138       56037   Sweetwater        WY   Wyoming            41614\n3139       56039        Teton        WY   Wyoming            23575\n3140       56041        Uinta        WY   Wyoming            20635\n3141       56043     Washakie        WY   Wyoming             7705\n3142       56045       Weston        WY   Wyoming             6745\n\n[3143 rows x 5 columns]\n"
        },
        {
          "output_type": "display_data",
          "data": {
            "text/plain": "<Figure size 640x480 with 1 Axes>",
            "image/png": "[encoded data removed]"
          },
          "metadata": {}
        }
      ],
      "execution_count": 15,
      "metadata": {
        "gather": {
          "logged": 1720533257750
        }
      }
    },
    {
      "cell_type": "code",
      "source": [
        "# Pivot the table \n",
        "# looks like one year one set of values was measured and on the other a differnt set so no nee to pivot on year\n",
        "pivoted_df = raw_df.pivot(index=['LocationID'], \n",
        "                          columns='MeasureId_type', \n",
        "                          values='Data_Value')\n",
        "\n",
        "# Reset the index to make 'LocationID' and 'Year' regular columns\n",
        "pivoted_df = pivoted_df.reset_index()\n",
        "pivoted_df = pivoted_df.sort_values(['LocationID'])\n",
        "pivoted_df = pivoted_df.reset_index(drop=True)\n",
        "\n",
        "print(pivoted_df.head())\n",
        "print(\"\\nNew table info:\")\n",
        "print(pivoted_df.info())"
      ],
      "outputs": [
        {
          "output_type": "stream",
          "name": "stdout",
          "text": "MeasureId_type  LocationID  ACCESS2_AgeAdjPrv  ACCESS2_CrdPrv  \\\n0                     1001              10.40           10.00   \n1                     1003               9.50            8.90   \n2                     1005              17.20           16.70   \n3                     1007              14.30           14.00   \n4                     1009              13.10           12.50   \n\nMeasureId_type  ARTHRITIS_AgeAdjPrv  ARTHRITIS_CrdPrv  BINGE_AgeAdjPrv  \\\n0                             28.20             31.60            15.50   \n1                             26.40             32.70            17.80   \n2                             30.60             35.40            13.40   \n3                             29.50             32.70            15.40   \n4                             28.40             33.30            16.00   \n\nMeasureId_type  BINGE_CrdPrv  BPHIGH_AgeAdjPrv  BPHIGH_CrdPrv  \\\n0                      14.40             37.20          40.70   \n1                      15.30             32.70          39.20   \n2                      12.00             44.30          48.80   \n3                      14.40             39.60          42.80   \n4                      14.30             35.20          40.30   \n\nMeasureId_type  BPMED_AgeAdjPrv  ...  SELFCARE_AgeAdjPrv  SELFCARE_CrdPrv  \\\n0                         65.30  ...                3.70             4.00   \n1                         62.80  ...                3.10             3.60   \n2                         68.40  ...                6.70             7.30   \n3                         65.80  ...                4.80             5.20   \n4                         62.40  ...                3.90             4.40   \n\nMeasureId_type  SLEEP_AgeAdjPrv  SLEEP_CrdPrv  STROKE_AgeAdjPrv  \\\n0                         37.50         37.00              3.00   \n1                         35.10         33.90              2.70   \n2                         43.90         42.70              4.40   \n3                         40.00         39.50              3.60   \n4                         37.30         36.40              3.00   \n\nMeasureId_type  STROKE_CrdPrv  TEETHLOST_AgeAdjPrv  TEETHLOST_CrdPrv  \\\n0                        3.40                12.70             12.10   \n1                        3.50                 9.90              9.50   \n2                        5.30                22.30             21.30   \n3                        4.00                17.00             16.10   \n4                        3.70                14.60             14.00   \n\nMeasureId_type  VISION_AgeAdjPrv  VISION_CrdPrv  \n0                           4.70           4.90  \n1                           4.00           4.40  \n2                           8.60           9.30  \n3                           6.20           6.50  \n4                           4.90           5.40  \n\n[5 rows x 75 columns]\n\nNew table info:\n<class 'pandas.core.frame.DataFrame'>\nRangeIndex: 3143 entries, 0 to 3142\nData columns (total 75 columns):\n #   Column                  Non-Null Count  Dtype  \n---  ------                  --------------  -----  \n 0   LocationID              3143 non-null   int64  \n 1   ACCESS2_AgeAdjPrv       3076 non-null   float64\n 2   ACCESS2_CrdPrv          3076 non-null   float64\n 3   ARTHRITIS_AgeAdjPrv     3076 non-null   float64\n 4   ARTHRITIS_CrdPrv        3076 non-null   float64\n 5   BINGE_AgeAdjPrv         3076 non-null   float64\n 6   BINGE_CrdPrv            3076 non-null   float64\n 7   BPHIGH_AgeAdjPrv        3076 non-null   float64\n 8   BPHIGH_CrdPrv           3076 non-null   float64\n 9   BPMED_AgeAdjPrv         3076 non-null   float64\n 10  BPMED_CrdPrv            3076 non-null   float64\n 11  CANCER_AgeAdjPrv        3076 non-null   float64\n 12  CANCER_CrdPrv           3076 non-null   float64\n 13  CASTHMA_AgeAdjPrv       3076 non-null   float64\n 14  CASTHMA_CrdPrv          3076 non-null   float64\n 15  CERVICAL_AgeAdjPrv      3143 non-null   float64\n 16  CERVICAL_CrdPrv         3143 non-null   float64\n 17  CHD_AgeAdjPrv           3076 non-null   float64\n 18  CHD_CrdPrv              3076 non-null   float64\n 19  CHECKUP_AgeAdjPrv       3076 non-null   float64\n 20  CHECKUP_CrdPrv          3076 non-null   float64\n 21  CHOLSCREEN_AgeAdjPrv    3076 non-null   float64\n 22  CHOLSCREEN_CrdPrv       3076 non-null   float64\n 23  COGNITION_AgeAdjPrv     3076 non-null   float64\n 24  COGNITION_CrdPrv        3076 non-null   float64\n 25  COLON_SCREEN_AgeAdjPrv  3143 non-null   float64\n 26  COLON_SCREEN_CrdPrv     3143 non-null   float64\n 27  COPD_AgeAdjPrv          3076 non-null   float64\n 28  COPD_CrdPrv             3076 non-null   float64\n 29  COREM_AgeAdjPrv         3143 non-null   float64\n 30  COREM_CrdPrv            3143 non-null   float64\n 31  COREW_AgeAdjPrv         3143 non-null   float64\n 32  COREW_CrdPrv            3143 non-null   float64\n 33  CSMOKING_AgeAdjPrv      3076 non-null   float64\n 34  CSMOKING_CrdPrv         3076 non-null   float64\n 35  DENTAL_AgeAdjPrv        3143 non-null   float64\n 36  DENTAL_CrdPrv           3143 non-null   float64\n 37  DEPRESSION_AgeAdjPrv    3076 non-null   float64\n 38  DEPRESSION_CrdPrv       3076 non-null   float64\n 39  DIABETES_AgeAdjPrv      3076 non-null   float64\n 40  DIABETES_CrdPrv         3076 non-null   float64\n 41  DISABILITY_AgeAdjPrv    3076 non-null   float64\n 42  DISABILITY_CrdPrv       3076 non-null   float64\n 43  GHLTH_AgeAdjPrv         3076 non-null   float64\n 44  GHLTH_CrdPrv            3076 non-null   float64\n 45  HEARING_AgeAdjPrv       3076 non-null   float64\n 46  HEARING_CrdPrv          3076 non-null   float64\n 47  HIGHCHOL_AgeAdjPrv      3076 non-null   float64\n 48  HIGHCHOL_CrdPrv         3076 non-null   float64\n 49  INDEPLIVE_AgeAdjPrv     3076 non-null   float64\n 50  INDEPLIVE_CrdPrv        3076 non-null   float64\n 51  KIDNEY_AgeAdjPrv        3076 non-null   float64\n 52  KIDNEY_CrdPrv           3076 non-null   float64\n 53  LPA_AgeAdjPrv           3076 non-null   float64\n 54  LPA_CrdPrv              3076 non-null   float64\n 55  MAMMOUSE_AgeAdjPrv      3143 non-null   float64\n 56  MAMMOUSE_CrdPrv         3143 non-null   float64\n 57  MHLTH_AgeAdjPrv         3076 non-null   float64\n 58  MHLTH_CrdPrv            3076 non-null   float64\n 59  MOBILITY_AgeAdjPrv      3076 non-null   float64\n 60  MOBILITY_CrdPrv         3076 non-null   float64\n 61  OBESITY_AgeAdjPrv       3076 non-null   float64\n 62  OBESITY_CrdPrv          3076 non-null   float64\n 63  PHLTH_AgeAdjPrv         3076 non-null   float64\n 64  PHLTH_CrdPrv            3076 non-null   float64\n 65  SELFCARE_AgeAdjPrv      3076 non-null   float64\n 66  SELFCARE_CrdPrv         3076 non-null   float64\n 67  SLEEP_AgeAdjPrv         3143 non-null   float64\n 68  SLEEP_CrdPrv            3143 non-null   float64\n 69  STROKE_AgeAdjPrv        3076 non-null   float64\n 70  STROKE_CrdPrv           3076 non-null   float64\n 71  TEETHLOST_AgeAdjPrv     3143 non-null   float64\n 72  TEETHLOST_CrdPrv        3143 non-null   float64\n 73  VISION_AgeAdjPrv        3076 non-null   float64\n 74  VISION_CrdPrv           3076 non-null   float64\ndtypes: float64(74), int64(1)\nmemory usage: 1.8 MB\nNone\n"
        }
      ],
      "execution_count": 16,
      "metadata": {
        "gather": {
          "logged": 1720533258686
        }
      }
    },
    {
      "cell_type": "code",
      "source": [
        "data_mart = pd.merge(Locations, pivoted_df, on='LocationID', how='left')\n",
        "# Drop rows with any NaN values\n",
        "data_mart = data_mart.dropna()\n",
        "\n",
        "data_mart = data_mart.sort_values(['LocationID'])\n",
        "data_mart = data_mart.reset_index(drop=True)\n",
        "\n",
        "print(data_mart.head())\n",
        "print(\"\\nMerged table info:\")\n",
        "print(data_mart.info())"
      ],
      "outputs": [
        {
          "output_type": "stream",
          "name": "stdout",
          "text": "   LocationID LocationName StateAbbr StateDesc  TotalPopulation  \\\n0        1001      Autauga        AL   Alabama            59095   \n1        1003      Baldwin        AL   Alabama           239294   \n2        1005      Barbour        AL   Alabama            24964   \n3        1007         Bibb        AL   Alabama            22477   \n4        1009       Blount        AL   Alabama            59041   \n\n   ACCESS2_AgeAdjPrv  ACCESS2_CrdPrv  ARTHRITIS_AgeAdjPrv  ARTHRITIS_CrdPrv  \\\n0              10.40           10.00                28.20             31.60   \n1               9.50            8.90                26.40             32.70   \n2              17.20           16.70                30.60             35.40   \n3              14.30           14.00                29.50             32.70   \n4              13.10           12.50                28.40             33.30   \n\n   BINGE_AgeAdjPrv  ...  SELFCARE_AgeAdjPrv  SELFCARE_CrdPrv  SLEEP_AgeAdjPrv  \\\n0            15.50  ...                3.70             4.00            37.50   \n1            17.80  ...                3.10             3.60            35.10   \n2            13.40  ...                6.70             7.30            43.90   \n3            15.40  ...                4.80             5.20            40.00   \n4            16.00  ...                3.90             4.40            37.30   \n\n   SLEEP_CrdPrv  STROKE_AgeAdjPrv  STROKE_CrdPrv  TEETHLOST_AgeAdjPrv  \\\n0         37.00              3.00           3.40                12.70   \n1         33.90              2.70           3.50                 9.90   \n2         42.70              4.40           5.30                22.30   \n3         39.50              3.60           4.00                17.00   \n4         36.40              3.00           3.70                14.60   \n\n   TEETHLOST_CrdPrv  VISION_AgeAdjPrv  VISION_CrdPrv  \n0             12.10              4.70           4.90  \n1              9.50              4.00           4.40  \n2             21.30              8.60           9.30  \n3             16.10              6.20           6.50  \n4             14.00              4.90           5.40  \n\n[5 rows x 79 columns]\n\nMerged table info:\n<class 'pandas.core.frame.DataFrame'>\nRangeIndex: 3076 entries, 0 to 3075\nData columns (total 79 columns):\n #   Column                  Non-Null Count  Dtype  \n---  ------                  --------------  -----  \n 0   LocationID              3076 non-null   int64  \n 1   LocationName            3076 non-null   object \n 2   StateAbbr               3076 non-null   object \n 3   StateDesc               3076 non-null   object \n 4   TotalPopulation         3076 non-null   int64  \n 5   ACCESS2_AgeAdjPrv       3076 non-null   float64\n 6   ACCESS2_CrdPrv          3076 non-null   float64\n 7   ARTHRITIS_AgeAdjPrv     3076 non-null   float64\n 8   ARTHRITIS_CrdPrv        3076 non-null   float64\n 9   BINGE_AgeAdjPrv         3076 non-null   float64\n 10  BINGE_CrdPrv            3076 non-null   float64\n 11  BPHIGH_AgeAdjPrv        3076 non-null   float64\n 12  BPHIGH_CrdPrv           3076 non-null   float64\n 13  BPMED_AgeAdjPrv         3076 non-null   float64\n 14  BPMED_CrdPrv            3076 non-null   float64\n 15  CANCER_AgeAdjPrv        3076 non-null   float64\n 16  CANCER_CrdPrv           3076 non-null   float64\n 17  CASTHMA_AgeAdjPrv       3076 non-null   float64\n 18  CASTHMA_CrdPrv          3076 non-null   float64\n 19  CERVICAL_AgeAdjPrv      3076 non-null   float64\n 20  CERVICAL_CrdPrv         3076 non-null   float64\n 21  CHD_AgeAdjPrv           3076 non-null   float64\n 22  CHD_CrdPrv              3076 non-null   float64\n 23  CHECKUP_AgeAdjPrv       3076 non-null   float64\n 24  CHECKUP_CrdPrv          3076 non-null   float64\n 25  CHOLSCREEN_AgeAdjPrv    3076 non-null   float64\n 26  CHOLSCREEN_CrdPrv       3076 non-null   float64\n 27  COGNITION_AgeAdjPrv     3076 non-null   float64\n 28  COGNITION_CrdPrv        3076 non-null   float64\n 29  COLON_SCREEN_AgeAdjPrv  3076 non-null   float64\n 30  COLON_SCREEN_CrdPrv     3076 non-null   float64\n 31  COPD_AgeAdjPrv          3076 non-null   float64\n 32  COPD_CrdPrv             3076 non-null   float64\n 33  COREM_AgeAdjPrv         3076 non-null   float64\n 34  COREM_CrdPrv            3076 non-null   float64\n 35  COREW_AgeAdjPrv         3076 non-null   float64\n 36  COREW_CrdPrv            3076 non-null   float64\n 37  CSMOKING_AgeAdjPrv      3076 non-null   float64\n 38  CSMOKING_CrdPrv         3076 non-null   float64\n 39  DENTAL_AgeAdjPrv        3076 non-null   float64\n 40  DENTAL_CrdPrv           3076 non-null   float64\n 41  DEPRESSION_AgeAdjPrv    3076 non-null   float64\n 42  DEPRESSION_CrdPrv       3076 non-null   float64\n 43  DIABETES_AgeAdjPrv      3076 non-null   float64\n 44  DIABETES_CrdPrv         3076 non-null   float64\n 45  DISABILITY_AgeAdjPrv    3076 non-null   float64\n 46  DISABILITY_CrdPrv       3076 non-null   float64\n 47  GHLTH_AgeAdjPrv         3076 non-null   float64\n 48  GHLTH_CrdPrv            3076 non-null   float64\n 49  HEARING_AgeAdjPrv       3076 non-null   float64\n 50  HEARING_CrdPrv          3076 non-null   float64\n 51  HIGHCHOL_AgeAdjPrv      3076 non-null   float64\n 52  HIGHCHOL_CrdPrv         3076 non-null   float64\n 53  INDEPLIVE_AgeAdjPrv     3076 non-null   float64\n 54  INDEPLIVE_CrdPrv        3076 non-null   float64\n 55  KIDNEY_AgeAdjPrv        3076 non-null   float64\n 56  KIDNEY_CrdPrv           3076 non-null   float64\n 57  LPA_AgeAdjPrv           3076 non-null   float64\n 58  LPA_CrdPrv              3076 non-null   float64\n 59  MAMMOUSE_AgeAdjPrv      3076 non-null   float64\n 60  MAMMOUSE_CrdPrv         3076 non-null   float64\n 61  MHLTH_AgeAdjPrv         3076 non-null   float64\n 62  MHLTH_CrdPrv            3076 non-null   float64\n 63  MOBILITY_AgeAdjPrv      3076 non-null   float64\n 64  MOBILITY_CrdPrv         3076 non-null   float64\n 65  OBESITY_AgeAdjPrv       3076 non-null   float64\n 66  OBESITY_CrdPrv          3076 non-null   float64\n 67  PHLTH_AgeAdjPrv         3076 non-null   float64\n 68  PHLTH_CrdPrv            3076 non-null   float64\n 69  SELFCARE_AgeAdjPrv      3076 non-null   float64\n 70  SELFCARE_CrdPrv         3076 non-null   float64\n 71  SLEEP_AgeAdjPrv         3076 non-null   float64\n 72  SLEEP_CrdPrv            3076 non-null   float64\n 73  STROKE_AgeAdjPrv        3076 non-null   float64\n 74  STROKE_CrdPrv           3076 non-null   float64\n 75  TEETHLOST_AgeAdjPrv     3076 non-null   float64\n 76  TEETHLOST_CrdPrv        3076 non-null   float64\n 77  VISION_AgeAdjPrv        3076 non-null   float64\n 78  VISION_CrdPrv           3076 non-null   float64\ndtypes: float64(74), int64(2), object(3)\nmemory usage: 1.9+ MB\nNone\n"
        }
      ],
      "execution_count": 17,
      "metadata": {
        "gather": {
          "logged": 1720533259777
        }
      }
    },
    {
      "cell_type": "code",
      "source": [
        "# Calculate the ratio of NaN values for each column\n",
        "nan_ratios = data_mart.isnull().mean().sort_values(ascending=False)\n",
        "\n",
        "# Convert to percentage and round to 2 decimal places\n",
        "nan_percentages = (nan_ratios * 100).round(2)\n",
        "\n",
        "# Create a DataFrame with the results\n",
        "nan_summary = pd.DataFrame({\n",
        "    'NaN Ratio': nan_ratios,\n",
        "    'NaN Percentage': nan_percentages\n",
        "})\n",
        "\n",
        "print(nan_summary['NaN Percentage'].describe())\n",
        "print(nan_summary[nan_summary['NaN Ratio'] > 0.01])\n",
        "\n",
        "# Display the summary, showing only columns with NaN values\n",
        "#print(\"Columns with NaN values (sorted by percentage):\")\n",
        "#print(nan_summary[nan_summary['NaN Ratio'] > 0])\n",
        "\n",
        "# Identify the column with the highest NaN ratio\n",
        "max_nan_column = nan_ratios.index[0]\n",
        "max_nan_percentage = nan_percentages[0]\n",
        "\n",
        "#print(f\"\\nColumn with the highest ratio of NaN values:\")\n",
        "#print(f\"{max_nan_column}: {max_nan_percentage}%\")"
      ],
      "outputs": [
        {
          "output_type": "stream",
          "name": "stdout",
          "text": "count   79.00\nmean     0.00\nstd      0.00\nmin      0.00\n25%      0.00\n50%      0.00\n75%      0.00\nmax      0.00\nName: NaN Percentage, dtype: float64\nEmpty DataFrame\nColumns: [NaN Ratio, NaN Percentage]\nIndex: []\n"
        },
        {
          "output_type": "stream",
          "name": "stderr",
          "text": "/tmp/ipykernel_2320727/233594821.py:22: FutureWarning: Series.__getitem__ treating keys as positions is deprecated. In a future version, integer keys will always be treated as labels (consistent with DataFrame behavior). To access a value by position, use `ser.iloc[pos]`\n  max_nan_percentage = nan_percentages[0]\n"
        }
      ],
      "execution_count": 18,
      "metadata": {
        "gather": {
          "logged": 1720533260872
        }
      }
    },
    {
      "cell_type": "markdown",
      "source": [
        "Data Mart Ready - now split and create MLTABLE"
      ],
      "metadata": {}
    },
    {
      "cell_type": "code",
      "source": [
        "#I am having issues with the string variables not including them in the training but yes in the data given to RAI;\n",
        "\n",
        "data_mart = data_mart.drop(labels=[\"LocationID\",\"LocationName\",\"StateAbbr\",\"StateDesc\",\"STROKE_CrdPrv\",\"TotalPopulation\"], axis=\"columns\")"
      ],
      "outputs": [],
      "execution_count": 19,
      "metadata": {
        "jupyter": {
          "source_hidden": false,
          "outputs_hidden": false
        },
        "nteract": {
          "transient": {
            "deleting": false
          }
        },
        "gather": {
          "logged": 1720533269946
        }
      }
    },
    {
      "cell_type": "code",
      "source": [
        "# Split the data into train and test sets\n",
        "train_df, test_df = train_test_split(data_mart, test_size=0.3, random_state=42)\n",
        "\n",
        "# Print the shapes of the train and test sets\n",
        "print(\"Train set shape:\", train_df.shape)\n",
        "print(\"Test set shape:\", test_df.shape)\n",
        "\n",
        "print(\"writting to csv\")\n",
        "create_folder_if_not_exists('../../../demo_data/health/')\n",
        "train_df.to_csv('../../../demo_data/health/train_csv.csv', index=False)\n",
        "test_df.to_csv('../../../demo_data/health/test_csv.csv', index=False)"
      ],
      "outputs": [
        {
          "output_type": "stream",
          "name": "stdout",
          "text": "Train set shape: (2153, 73)\nTest set shape: (923, 73)\nwritting to csv\nFolder '../../../demo_data/health/' already exists.\n"
        }
      ],
      "execution_count": 20,
      "metadata": {
        "gather": {
          "logged": 1720533272345
        }
      }
    },
    {
      "cell_type": "code",
      "source": [
        "\"\"\"\n",
        "exclude_features_str = '\"LocationID\",\"LocationName\",\"StateAbbr\",\"StateDesc\",\"STROKE_CrdPrv\"'\n",
        "exclude_features_list = list(exclude_features_str.strip('\"').split('\",\"'))\n",
        "print(exclude_features_list)\n",
        "temp_df = train_df.drop(labels=exclude_features_list, axis=\"columns\")\n",
        "print(temp_df.columns)\n",
        "\"\"\""
      ],
      "outputs": [
        {
          "output_type": "execute_result",
          "execution_count": 22,
          "data": {
            "text/plain": "'\\nexclude_features_str = \\'\"LocationID\",\"LocationName\",\"StateAbbr\",\"StateDesc\",\"STROKE_CrdPrv\"\\'\\nexclude_features_list = list(exclude_features_str.strip(\\'\"\\').split(\\'\",\"\\'))\\nprint(exclude_features_list)\\ntemp_df = train_df.drop(labels=exclude_features_list, axis=\"columns\")\\nprint(temp_df.columns)\\n'"
          },
          "metadata": {}
        }
      ],
      "execution_count": 22,
      "metadata": {
        "gather": {
          "logged": 1720533335704
        }
      }
    },
    {
      "cell_type": "code",
      "source": [
        "ws = Workspace.from_config()\n",
        "datastore = ws.get_default_datastore()\n",
        "\n",
        "datastore.upload_files(files=[\"../../../demo_data/health/train_csv.csv\"],\n",
        "                       target_path=\"/health/train_csv.csv\",\n",
        "                       overwrite=True)\n",
        "\n",
        "datastore.upload_files(files=[\"../../../demo_data/health/test_csv.csv\"],\n",
        "                       target_path=\"/health/test_csv.csv\",\n",
        "                       overwrite=True)\n"
      ],
      "outputs": [
        {
          "output_type": "stream",
          "name": "stderr",
          "text": "\"datastore.upload_files\" is deprecated after version 1.0.69. Please use \"FileDatasetFactory.upload_directory\" instead. See Dataset API change notice at https://aka.ms/dataset-deprecation.\n"
        },
        {
          "output_type": "stream",
          "name": "stdout",
          "text": "Uploading an estimated of 1 files\nUploading ../../../demo_data/health/train_csv.csv\nUploaded ../../../demo_data/health/train_csv.csv, 1 files out of an estimated total of 1\nUploaded 1 files\nUploading an estimated of 1 files\nUploading ../../../demo_data/health/test_csv.csv\nUploaded ../../../demo_data/health/test_csv.csv, 1 files out of an estimated total of 1\nUploaded 1 files\n"
        },
        {
          "output_type": "execute_result",
          "execution_count": 23,
          "data": {
            "text/plain": "$AZUREML_DATAREFERENCE_4e10cb8cadfd40f2959f6094b966eae5"
          },
          "metadata": {}
        }
      ],
      "execution_count": 23,
      "metadata": {
        "gather": {
          "logged": 1720533340559
        }
      }
    },
    {
      "cell_type": "code",
      "source": [
        "#The compoenents expect mltalbes so need firt to save to either csv or parquet\n",
        "print(\"creating mltables\")\n",
        "\n",
        "train_paths = [{\"file\": \"azureml://subscriptions/e02ff02a-3d3d-4fa7-828d-54c7d1f4899f/resourcegroups/aauki_eli_demos/workspaces/aauki_eli_demos_amlws01/datastores/workspaceblobstore/paths/health/train_csv.csv/train_csv.csv\"}]\n",
        "train_mltable = mltable.from_delimited_files(\n",
        "    paths=train_paths,\n",
        "    delimiter=\",\",\n",
        "    header=MLTableHeaders.all_files_same_headers,\n",
        "    infer_column_types=True,\n",
        "    include_path_column=False,\n",
        "    encoding=MLTableFileEncoding.utf8,\n",
        ")\n",
        "\n",
        "#train_mltable = train_mltable.convert_column_types(data_types)\n",
        "train_mltable.show(5)\n",
        "\n",
        "create_folder_if_not_exists('../../../demo_data/health_train_mltalbe/')\n",
        "train_mltable.save(\"../../../demo_data/health_train_mltalbe\") \n",
        "\n"
      ],
      "outputs": [
        {
          "output_type": "stream",
          "name": "stdout",
          "text": "creating mltables\nFolder '../../../demo_data/health_train_mltalbe/' already exists.\n"
        },
        {
          "output_type": "execute_result",
          "execution_count": 24,
          "data": {
            "text/plain": "paths:\n- file: azureml://subscriptions/e02ff02a-3d3d-4fa7-828d-54c7d1f4899f/resourcegroups/aauki_eli_demos/workspaces/aauki_eli_demos_amlws01/datastores/workspaceblobstore/paths/health/train_csv.csv/train_csv.csv\ntransformations:\n- read_delimited:\n    delimiter: ','\n    empty_as_string: false\n    encoding: utf8\n    header: all_files_same_headers\n    include_path_column: false\n    infer_column_types: true\n    partition_size: 20971520\n    path_column: Path\n    support_multi_line: false\ntype: mltable"
          },
          "metadata": {}
        }
      ],
      "execution_count": 24,
      "metadata": {
        "gather": {
          "logged": 1720533346380
        }
      }
    },
    {
      "cell_type": "code",
      "source": [
        "#The compoenents expect mltalbes so need firt to save to either csv or parquet\n",
        "print(\"creating mltables\")\n",
        "\n",
        "test_paths = [{\"file\": \"azureml://subscriptions/e02ff02a-3d3d-4fa7-828d-54c7d1f4899f/resourcegroups/aauki_eli_demos/workspaces/aauki_eli_demos_amlws01/datastores/workspaceblobstore/paths/health/test_csv.csv/test_csv.csv\"}]\n",
        "test_mltable = mltable.from_delimited_files(\n",
        "    paths=train_paths,\n",
        "    delimiter=\",\",\n",
        "    header=MLTableHeaders.all_files_same_headers,\n",
        "    infer_column_types=True,\n",
        "    include_path_column=False,\n",
        "    encoding=MLTableFileEncoding.utf8,\n",
        ")\n",
        "\n",
        "#train_mltable = train_mltable.convert_column_types(data_types)\n",
        "test_mltable.show(5)\n",
        "\n",
        "create_folder_if_not_exists('../../../demo_data/health_test_mltalbe/')\n",
        "train_mltable.save(\"../../../demo_data/health_test_mltalbe\") "
      ],
      "outputs": [
        {
          "output_type": "stream",
          "name": "stdout",
          "text": "creating mltables\nFolder '../../../demo_data/health_test_mltalbe/' already exists.\n"
        },
        {
          "output_type": "execute_result",
          "execution_count": 25,
          "data": {
            "text/plain": "paths:\n- file: azureml://subscriptions/e02ff02a-3d3d-4fa7-828d-54c7d1f4899f/resourcegroups/aauki_eli_demos/workspaces/aauki_eli_demos_amlws01/datastores/workspaceblobstore/paths/health/train_csv.csv/train_csv.csv\ntransformations:\n- read_delimited:\n    delimiter: ','\n    empty_as_string: false\n    encoding: utf8\n    header: all_files_same_headers\n    include_path_column: false\n    infer_column_types: true\n    partition_size: 20971520\n    path_column: Path\n    support_multi_line: false\ntype: mltable"
          },
          "metadata": {}
        }
      ],
      "execution_count": 25,
      "metadata": {
        "gather": {
          "logged": 1720533425387
        }
      }
    },
    {
      "cell_type": "code",
      "source": [
        "load_dotenv()\n",
        "SUBSCRIPTION_ID = os.environ.get(\"SUBSCRIPTION_ID\")\n",
        "RESOURCE_GROUP = os.environ.get(\"RESOURCE_GROUP\")\n",
        "AML_WORKSPACE_NAME = os.environ.get(\"AML_WORKSPACE_NAME\")\n",
        "print(\"AML_WORKSPACE_NAME:\", AML_WORKSPACE_NAME)\n",
        "\n",
        "credential = DefaultAzureCredential()\n",
        "ml_client = MLClient(credential=credential, subscription_id=SUBSCRIPTION_ID, resource_group_name=RESOURCE_GROUP, workspace_name=AML_WORKSPACE_NAME, )"
      ],
      "outputs": [
        {
          "output_type": "stream",
          "name": "stdout",
          "text": "AML_WORKSPACE_NAME: aauki_eli_demos_amlws01\n"
        }
      ],
      "execution_count": 26,
      "metadata": {
        "gather": {
          "logged": 1720533427733
        }
      }
    },
    {
      "cell_type": "code",
      "source": [
        "print(\"train data-asset\")\n",
        "train_data = Data(\n",
        "        path=\"../../../demo_data/health_train_mltalbe/\",\n",
        "        type=AssetTypes.MLTABLE,\n",
        "        description=\"health_train\",\n",
        "        name=\"health_train_mltable\",\n",
        "        version=\"03\",\n",
        "    )\n",
        "ml_client.data.create_or_update(train_data)"
      ],
      "outputs": [
        {
          "output_type": "stream",
          "name": "stdout",
          "text": "train data-asset\n"
        },
        {
          "output_type": "execute_result",
          "execution_count": 27,
          "data": {
            "text/plain": "Data({'path': 'azureml://subscriptions/e02ff02a-3d3d-4fa7-828d-54c7d1f4899f/resourcegroups/aauki_eli_demos/workspaces/aauki_eli_demos_amlws01/datastores/workspaceblobstore/paths/LocalUpload/74d59cec1b352938d2ab44038894d5b3/health_train_mltalbe/', 'skip_validation': False, 'mltable_schema_url': None, 'referenced_uris': ['azureml://subscriptions/e02ff02a-3d3d-4fa7-828d-54c7d1f4899f/resourcegroups/aauki_eli_demos/workspaces/aauki_eli_demos_amlws01/datastores/workspaceblobstore/paths/health/train_csv.csv/train_csv.csv'], 'type': 'mltable', 'is_anonymous': False, 'auto_increment_version': False, 'auto_delete_setting': None, 'name': 'health_train_mltable', 'description': 'health_train', 'tags': {}, 'properties': {}, 'print_as_yaml': False, 'id': '/subscriptions/e02ff02a-3d3d-4fa7-828d-54c7d1f4899f/resourceGroups/aauki_eli_demos/providers/Microsoft.MachineLearningServices/workspaces/aauki_eli_demos_amlws01/data/health_train_mltable/versions/03', 'Resource__source_path': '', 'base_path': '/mnt/batch/tasks/shared/LS_root/mounts/clusters/aai-uki-aml-eli-jun2024/code/Users/eli.kling/ado/azure_machine_learning/Exploration/ResponsibleAI/setup', 'creation_context': <azure.ai.ml.entities._system_data.SystemData object at 0x7f5d79841e40>, 'serialize': <msrest.serialization.Serializer object at 0x7f5d79842440>, 'version': '03', 'latest_version': None, 'datastore': None})"
          },
          "metadata": {}
        }
      ],
      "execution_count": 27,
      "metadata": {
        "gather": {
          "logged": 1720533431515
        }
      }
    },
    {
      "cell_type": "code",
      "source": [
        "print(\"test data-asset\")\n",
        "train_data = Data(\n",
        "        path=\"../../../demo_data/health_test_mltalbe/\",\n",
        "        type=AssetTypes.MLTABLE,\n",
        "        description=\"health_test\",\n",
        "        name=\"health_test_mltable\",\n",
        "        version=\"03\",\n",
        "    )\n",
        "ml_client.data.create_or_update(train_data)"
      ],
      "outputs": [
        {
          "output_type": "stream",
          "name": "stdout",
          "text": "test data-asset\n"
        },
        {
          "output_type": "execute_result",
          "execution_count": 28,
          "data": {
            "text/plain": "Data({'path': 'azureml://subscriptions/e02ff02a-3d3d-4fa7-828d-54c7d1f4899f/resourcegroups/aauki_eli_demos/workspaces/aauki_eli_demos_amlws01/datastores/workspaceblobstore/paths/LocalUpload/74d59cec1b352938d2ab44038894d5b3/health_test_mltalbe/', 'skip_validation': False, 'mltable_schema_url': None, 'referenced_uris': ['azureml://subscriptions/e02ff02a-3d3d-4fa7-828d-54c7d1f4899f/resourcegroups/aauki_eli_demos/workspaces/aauki_eli_demos_amlws01/datastores/workspaceblobstore/paths/health/train_csv.csv/train_csv.csv'], 'type': 'mltable', 'is_anonymous': False, 'auto_increment_version': False, 'auto_delete_setting': None, 'name': 'health_test_mltable', 'description': 'health_test', 'tags': {}, 'properties': {}, 'print_as_yaml': False, 'id': '/subscriptions/e02ff02a-3d3d-4fa7-828d-54c7d1f4899f/resourceGroups/aauki_eli_demos/providers/Microsoft.MachineLearningServices/workspaces/aauki_eli_demos_amlws01/data/health_test_mltable/versions/03', 'Resource__source_path': '', 'base_path': '/mnt/batch/tasks/shared/LS_root/mounts/clusters/aai-uki-aml-eli-jun2024/code/Users/eli.kling/ado/azure_machine_learning/Exploration/ResponsibleAI/setup', 'creation_context': <azure.ai.ml.entities._system_data.SystemData object at 0x7f5d68eae020>, 'serialize': <msrest.serialization.Serializer object at 0x7f5d68ead5a0>, 'version': '03', 'latest_version': None, 'datastore': None})"
          },
          "metadata": {}
        }
      ],
      "execution_count": 28,
      "metadata": {
        "gather": {
          "logged": 1720533435501
        }
      }
    }
  ],
  "metadata": {
    "kernelspec": {
      "name": "python310-sdkv2",
      "language": "python",
      "display_name": "Python 3.10 - SDK v2"
    },
    "language_info": {
      "name": "python",
      "version": "3.10.14",
      "mimetype": "text/x-python",
      "codemirror_mode": {
        "name": "ipython",
        "version": 3
      },
      "pygments_lexer": "ipython3",
      "nbconvert_exporter": "python",
      "file_extension": ".py"
    },
    "microsoft": {
      "ms_spell_check": {
        "ms_spell_check_language": "en"
      },
      "host": {
        "AzureML": {
          "notebookHasBeenCompleted": true
        }
      }
    },
    "kernel_info": {
      "name": "python310-sdkv2"
    },
    "nteract": {
      "version": "nteract-front-end@1.0.0"
    }
  },
  "nbformat": 4,
  "nbformat_minor": 2
}