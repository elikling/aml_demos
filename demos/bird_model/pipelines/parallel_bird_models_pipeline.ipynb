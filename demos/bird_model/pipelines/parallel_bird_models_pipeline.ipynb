{
  "cells": [
    {
      "cell_type": "code",
      "execution_count": 19,
      "metadata": {
        "gather": {
          "logged": 1673838207609
        },
        "name": "required-library"
      },
      "outputs": [],
      "source": [
        "from azure.identity import DefaultAzureCredential, InteractiveBrowserCredential\n",
        "from azure.ai.ml import MLClient, Input, Output, load_component\n",
        "from azure.ai.ml.dsl import pipeline\n",
        "from azure.ai.ml.entities import Environment, ResourceConfiguration\n",
        "from azure.ai.ml.constants import AssetTypes, InputOutputModes\n",
        "from azure.ai.ml.parallel import parallel_run_function, RunFunction"
      ]
    },
    {
      "cell_type": "code",
      "execution_count": 20,
      "metadata": {
        "gather": {
          "logged": 1673838211196
        },
        "name": "credential"
      },
      "outputs": [],
      "source": [
        "try:\n",
        "    credential = DefaultAzureCredential()\n",
        "    # Check if given credential can get token successfully.\n",
        "    credential.get_token(\"https://management.azure.com/.default\")\n",
        "except Exception as ex:\n",
        "    # Fall back to InteractiveBrowserCredential in case DefaultAzureCredential not work\n",
        "    credential = InteractiveBrowserCredential()"
      ]
    },
    {
      "cell_type": "code",
      "execution_count": 21,
      "metadata": {
        "gather": {
          "logged": 1673858642606
        },
        "name": "workspace"
      },
      "outputs": [
        {
          "name": "stderr",
          "output_type": "stream",
          "text": [
            "Found the config file in: /config.json\n"
          ]
        },
        {
          "name": "stdout",
          "output_type": "stream",
          "text": [
            "enable_node_public_ip: true\n",
            "id: /subscriptions/e02ff02a-3d3d-4fa7-828d-54c7d1f4899f/resourceGroups/aauki_eli_demos/providers/Microsoft.MachineLearningServices/workspaces/aauki_eli_demos_amlws01/computes/aml-eli-cluster-strong\n",
            "idle_time_before_scale_down: 120\n",
            "location: uksouth\n",
            "max_instances: 17\n",
            "min_instances: 0\n",
            "name: aml-eli-cluster-strong\n",
            "provisioning_state: Succeeded\n",
            "size: Standard_D13_v2\n",
            "ssh_public_access_enabled: false\n",
            "tags:\n",
            "  contact: eli.kling\"avanade.com\n",
            "tier: dedicated\n",
            "type: amlcompute\n",
            "\n"
          ]
        }
      ],
      "source": [
        "# Get a handle to workspace\n",
        "ml_client = MLClient.from_config(credential=credential)\n",
        "\n",
        "# Retrieve an already attached Azure Machine Learning Compute.\n",
        "cpu_compute_target = \"aml-eli-cluster-strong\"\n",
        "print(ml_client.compute.get(cpu_compute_target))"
      ]
    },
    {
      "cell_type": "markdown",
      "metadata": {},
      "source": [
        "# 2. Define components and jobs in pipeline\n",
        "\n",
        "## 2.1 Load existing command component"
      ]
    },
    {
      "cell_type": "code",
      "execution_count": 22,
      "metadata": {
        "gather": {
          "logged": 1673860079582
        },
        "name": "load-from-yaml"
      },
      "outputs": [],
      "source": [
        "scenario_prep_component = load_component(\n",
        "    source=\"../components/scenario_prep/scenario_prep.yaml\"\n",
        ")"
      ]
    },
    {
      "cell_type": "markdown",
      "metadata": {},
      "source": [
        "## 2.2 Declare parallel job by `parallel_run_function`\n"
      ]
    },
    {
      "cell_type": "code",
      "execution_count": 23,
      "metadata": {
        "gather": {
          "logged": 1673860081288
        },
        "name": "parallel-job-for-file-data"
      },
      "outputs": [],
      "source": [
        "# Declare parallel job with run_function task\n",
        "parallel_bird_models_component = parallel_run_function(\n",
        "    name=\"parallel_bird_models\",\n",
        "    display_name=\"run bird models in parallel\",\n",
        "    description=\"run bird models in parallel configured in previus step via CSVs\",\n",
        "    tags={\n",
        "        \"contact\": \"eli.kling@avanade.com\",\n",
        "        \"type\": \"Demo\",\n",
        "    },\n",
        "    inputs=dict(\n",
        "        input_data=Input(\n",
        "            type=AssetTypes.URI_FOLDER,\n",
        "            description=\"Folder holding CSV files defining the configuration of the scenarios\",\n",
        "            mode=InputOutputModes.DOWNLOAD,\n",
        "        ),\n",
        "    ),\n",
        "    outputs=dict(\n",
        "        job_output_folder=Output(\n",
        "            type=AssetTypes.URI_FOLDER,\n",
        "            mode=InputOutputModes.RW_MOUNT,\n",
        "        ),\n",
        "    ),\n",
        "    input_data=\"${{inputs.input_data}}\",  # Define which input data will be splitted into mini-batches\n",
        "    instance_count=2,  # Use 2 nodes from compute cluster to run this parallel job.\n",
        "    max_concurrency_per_instance=2,  # Create 2 worker processors in each compute node to execute mini-batches.\n",
        "    error_threshold=-1,  # Monitor the failures of item processed by the gap between mini-batch input count and returns. 'Many model training' scenario doesn't fit this setting and '-1' means ignore counting failure items by mini-batch returns.\n",
        "    mini_batch_error_threshold=5,  # Monitor the failed mini-batch by exception, time out, or null return. When failed mini-batch count is higher than this setting, the parallel job will be marked as 'failed'.\n",
        "    retry_settings=dict(\n",
        "        max_retries=2,  # Define how many retries when mini-batch execution is failed by exception, time out, or null return.\n",
        "        timeout=60,  # Define the timeout in second for each mini-batch execution.\n",
        "    ),\n",
        "    logging_level=\"DEBUG\",\n",
        "    environment_variables={\n",
        "        \"AZUREML_PARALLEL_EXAMPLE\": \"notebook\",\n",
        "    },\n",
        "    task=RunFunction(\n",
        "        code=\"../components/parallel_bird_models/\",\n",
        "        entry_script=\"parallel_bird_models.py\",\n",
        "        environment=Environment(\n",
        "            image=\"mcr.microsoft.com/azureml/openmpi3.1.2-ubuntu18.04\",\n",
        "            conda_file=\"../components/parallel_bird_models/conda.yaml\",\n",
        "        ),\n",
        "        program_arguments=\"--input_data ${{inputs.input_data}} \"\n",
        "        \"--output_folder ${{outputs.job_output_folder}} \",\n",
        "    ),\n",
        ")"
      ]
    },
    {
      "cell_type": "markdown",
      "metadata": {},
      "source": [
        "# 3. Build pipeline"
      ]
    },
    {
      "cell_type": "code",
      "execution_count": 24,
      "metadata": {
        "gather": {
          "logged": 1673860087207
        },
        "name": "build-pipeline"
      },
      "outputs": [],
      "source": [
        "# Declare pipeline structure.\n",
        "@pipeline(\n",
        "    display_name=\"parallel job for many bird model scenarios\",\n",
        ")\n",
        "def partition_job_in_pipeline():\n",
        "    # Declare 1st data partition command job.\n",
        "    scenario_prep_step = scenario_prep_component()\n",
        "\n",
        "    # Declare 2nd parallel model training job.\n",
        "    parallel_bird_models_step = parallel_bird_models_component(\n",
        "        input_data=scenario_prep_step.outputs.output_folder,\n",
        "    )\n",
        "\n",
        "    # User could override parallel job run-level property when invoke that parallel job/component in pipeline.\n",
        "    parallel_bird_models_step.resources.instance_count = 3\n",
        "    parallel_bird_models_step.max_concurrency_per_instance = 2\n",
        "    parallel_bird_models_step.mini_batch_error_threshold = 10\n",
        "    # parallel_bird_models_step.outputs.job_output_file.path = \"azureml://datastores/${{default_datastore}}/paths/${{name}}/aggregated_returns.csv\"\n",
        "\n",
        "\n",
        "# Create pipeline instance\n",
        "my_job = partition_job_in_pipeline()\n",
        "\n",
        "# Set pipeline level compute\n",
        "my_job.tags.update\n",
        "my_job.settings.default_compute = cpu_compute_target\n",
        "my_job.settings.ForceRerun = True"
      ]
    },
    {
      "cell_type": "code",
      "execution_count": 25,
      "metadata": {
        "gather": {
          "logged": 1673860094391
        }
      },
      "outputs": [
        {
          "name": "stdout",
          "output_type": "stream",
          "text": [
            "display_name: parallel job for many bird model scenarios\n",
            "type: pipeline\n",
            "jobs:\n",
            "  scenario_prep_step:\n",
            "    type: command\n",
            "    component:\n",
            "      name: scenario_prep\n",
            "      display_name: scenario configuration\n",
            "      type: command\n",
            "      outputs:\n",
            "        output_folder:\n",
            "          type: uri_folder\n",
            "          mode: rw_mount\n",
            "      command: python scenario_prep.py  --output_folder ${{outputs.output_folder}};\n",
            "      environment:\n",
            "        name: CliV2AnonymousEnvironment\n",
            "        version: 17c46db455cf0e6f082f5942c5f2d33e\n",
            "        image: mcr.microsoft.com/azureml/openmpi4.1.0-ubuntu20.04:latest\n",
            "        conda_file:\n",
            "          name: birdmodel\n",
            "          channels:\n",
            "          - conda-forge\n",
            "          dependencies:\n",
            "          - python=3.10\n",
            "          - pip\n",
            "          - pip:\n",
            "            - mlflow\n",
            "            - azureml-mlflow\n",
            "      code: /mnt/batch/tasks/shared/LS_root/mounts/clusters/uki-aai-eli-aml01/code/Users/eli.kling/ado/azure_machine_learning/Exploration/bird_model/components/scenario_prep\n",
            "      is_deterministic: true\n",
            "  parallel_bird_models:\n",
            "    type: parallel\n",
            "    inputs:\n",
            "      input_data:\n",
            "        path: ${{parent.jobs.scenario_prep_step.outputs.output_folder}}\n",
            "    outputs:\n",
            "      job_output_folder:\n",
            "        mode: rw_mount\n",
            "        type: uri_folder\n",
            "    resources:\n",
            "      instance_count: 3\n",
            "    component:\n",
            "      name: parallel_bird_models\n",
            "      display_name: run bird models in parallel\n",
            "      description: run bird models in parallel configured in previus step via CSVs\n",
            "      type: parallel\n",
            "      inputs:\n",
            "        input_data:\n",
            "          type: uri_folder\n",
            "          description: Folder holding CSV files defining the configuration of the\n",
            "            scenarios\n",
            "          mode: download\n",
            "      outputs:\n",
            "        job_output_folder:\n",
            "          type: uri_folder\n",
            "          mode: rw_mount\n",
            "      resources:\n",
            "        instance_count: 2\n",
            "      is_deterministic: true\n",
            "      retry_settings:\n",
            "        timeout: 60\n",
            "        max_retries: 2\n",
            "      tags:\n",
            "        contact: eli.kling@avanade.com\n",
            "        type: Demo\n",
            "      mini_batch_error_threshold: 5\n",
            "      task:\n",
            "        type: run_function\n",
            "        code: /mnt/batch/tasks/shared/LS_root/mounts/clusters/uki-aai-eli-aml01/code/Users/eli.kling/ado/azure_machine_learning/Exploration/bird_model/components/parallel_bird_models\n",
            "        entry_script: parallel_bird_models.py\n",
            "        program_arguments: '--input_data ${{inputs.input_data}} --output_folder ${{outputs.job_output_folder}} '\n",
            "        environment:\n",
            "          name: CliV2AnonymousEnvironment\n",
            "          version: 5e46ce8c6ade419c1edbcfe1515155fa\n",
            "          image: mcr.microsoft.com/azureml/openmpi3.1.2-ubuntu18.04\n",
            "          conda_file:\n",
            "            name: birdmodel\n",
            "            channels:\n",
            "            - conda-forge\n",
            "            dependencies:\n",
            "            - python=3.10\n",
            "            - pip\n",
            "            - pip:\n",
            "              - azureml-core\n",
            "              - BirDePy\n",
            "              - mlflow\n",
            "              - azureml-mlflow\n",
            "      logging_level: DEBUG\n",
            "      max_concurrency_per_instance: 2\n",
            "      input_data: ${{inputs.input_data}}\n",
            "      error_threshold: -1\n",
            "    retry_settings:\n",
            "      timeout: 60\n",
            "      max_retries: 2\n",
            "    mini_batch_error_threshold: 10\n",
            "    task:\n",
            "      type: run_function\n",
            "      code: /mnt/batch/tasks/shared/LS_root/mounts/clusters/uki-aai-eli-aml01/code/Users/eli.kling/ado/azure_machine_learning/Exploration/bird_model/components/parallel_bird_models\n",
            "      entry_script: parallel_bird_models.py\n",
            "      program_arguments: '--input_data ${{inputs.input_data}} --output_folder ${{outputs.job_output_folder}} '\n",
            "      environment:\n",
            "        name: CliV2AnonymousEnvironment\n",
            "        version: 5e46ce8c6ade419c1edbcfe1515155fa\n",
            "        image: mcr.microsoft.com/azureml/openmpi3.1.2-ubuntu18.04\n",
            "        conda_file:\n",
            "          name: birdmodel\n",
            "          channels:\n",
            "          - conda-forge\n",
            "          dependencies:\n",
            "          - python=3.10\n",
            "          - pip\n",
            "          - pip:\n",
            "            - azureml-core\n",
            "            - BirDePy\n",
            "            - mlflow\n",
            "            - azureml-mlflow\n",
            "    logging_level: DEBUG\n",
            "    max_concurrency_per_instance: 2\n",
            "    input_data: ${{inputs.input_data}}\n",
            "    error_threshold: -1\n",
            "    environment_variables:\n",
            "      AZUREML_PARALLEL_EXAMPLE: notebook\n",
            "settings:\n",
            "  default_compute: azureml:aml-eli-cluster-strong\n",
            "\n"
          ]
        }
      ],
      "source": [
        "print(my_job)"
      ]
    },
    {
      "cell_type": "markdown",
      "metadata": {},
      "source": [
        "# 4. Submit pipeline job"
      ]
    },
    {
      "cell_type": "code",
      "execution_count": 26,
      "metadata": {
        "gather": {
          "logged": 1673858666260
        },
        "name": "submit-pipeline"
      },
      "outputs": [
        {
          "name": "stderr",
          "output_type": "stream",
          "text": [
            "\u001b[32mUploading parallel_bird_models (0.01 MBs): 100%|██████████| 5093/5093 [00:00<00:00, 41813.81it/s]\n",
            "\u001b[39m\n",
            "\n"
          ]
        },
        {
          "data": {
            "text/html": [
              "<table style=\"width:100%\"><tr><th>Experiment</th><th>Name</th><th>Type</th><th>Status</th><th>Details Page</th></tr><tr><td>Notebook-parallel-job</td><td>joyful_wing_9kzl8mxtq9</td><td>pipeline</td><td>Preparing</td><td><a href=\"https://ml.azure.com/runs/joyful_wing_9kzl8mxtq9?wsid=/subscriptions/e02ff02a-3d3d-4fa7-828d-54c7d1f4899f/resourcegroups/aauki_eli_demos/workspaces/aauki_eli_demos_amlws01&amp;tid=b1ca6599-0d75-4087-b9db-4d1109790aac\" target=\"_blank\" rel=\"noopener\">Link to Azure Machine Learning studio</a></td></tr></table>"
            ],
            "text/plain": [
              "PipelineJob({'inputs': {}, 'outputs': {}, 'jobs': {}, 'component': PipelineComponent({'intellectual_property': None, 'auto_increment_version': False, 'source': 'REMOTE.WORKSPACE.JOB', 'is_anonymous': True, 'auto_delete_setting': None, 'name': 'azureml_anonymous', 'description': None, 'tags': {}, 'properties': {}, 'print_as_yaml': True, 'id': None, 'Resource__source_path': None, 'base_path': '/mnt/batch/tasks/shared/LS_root/mounts/clusters/uki-aai-eli-aml01/code/Users/eli.kling/ado/azure_machine_learning/Exploration/bird_model/pipelines', 'creation_context': None, 'serialize': <msrest.serialization.Serializer object at 0x7fc5126f08b0>, 'version': '1', 'latest_version': None, 'schema': None, 'type': 'pipeline', 'display_name': 'parallel job for many bird model scenarios', 'is_deterministic': None, 'inputs': {}, 'outputs': {}, 'yaml_str': None, 'other_parameter': {}, 'jobs': {'scenario_prep_step': Command({'parameters': {}, 'init': False, 'name': 'scenario_prep_step', 'type': 'command', 'status': None, 'log_files': None, 'description': None, 'tags': {}, 'properties': {}, 'print_as_yaml': True, 'id': None, 'Resource__source_path': None, 'base_path': '/mnt/batch/tasks/shared/LS_root/mounts/clusters/uki-aai-eli-aml01/code/Users/eli.kling/ado/azure_machine_learning/Exploration/bird_model/pipelines', 'creation_context': None, 'serialize': <msrest.serialization.Serializer object at 0x7fc5126f3e80>, 'allowed_keys': {}, 'key_restriction': False, 'logger': <Logger attr_dict (WARNING)>, 'display_name': None, 'experiment_name': None, 'compute': None, 'services': None, 'comment': None, 'job_inputs': {}, 'job_outputs': {}, 'inputs': {}, 'outputs': {}, 'component': 'azureml_anonymous:7142d971-02b3-4477-a9f9-338f42fa7670', 'referenced_control_flow_node_instance_id': None, 'kwargs': {'services': None}, 'instance_id': '8ffca054-9b54-4afa-b6af-d6edeac31b74', 'source': 'REMOTE.WORKSPACE.COMPONENT', 'validate_required_input_not_provided': True, 'limits': None, 'identity': None, 'distribution': None, 'environment_variables': {}, 'environment': None, 'resources': None, 'queue_settings': None, 'swept': False}), 'parallel_bird_models': Parallel({'init': False, 'name': 'parallel_bird_models', 'type': 'parallel', 'status': None, 'log_files': None, 'description': None, 'tags': {'contact': 'eli.kling@avanade.com', 'type': 'Demo'}, 'properties': {}, 'print_as_yaml': True, 'id': None, 'Resource__source_path': None, 'base_path': '/mnt/batch/tasks/shared/LS_root/mounts/clusters/uki-aai-eli-aml01/code/Users/eli.kling/ado/azure_machine_learning/Exploration/bird_model/pipelines', 'creation_context': None, 'serialize': <msrest.serialization.Serializer object at 0x7fc5126f05b0>, 'allowed_keys': {}, 'key_restriction': False, 'logger': <Logger attr_dict (WARNING)>, 'display_name': 'run bird models in parallel', 'experiment_name': None, 'compute': None, 'services': None, 'comment': None, 'job_inputs': {'input_data': '${{parent.jobs.scenario_prep_step.outputs.output_folder}}'}, 'job_outputs': {'job_output_folder': {'type': 'uri_folder', 'mode': 'rw_mount'}}, 'inputs': {'input_data': <azure.ai.ml.entities._job.pipeline._io.base.NodeInput object at 0x7fc5126f0910>}, 'outputs': {'job_output_folder': <azure.ai.ml.entities._job.pipeline._io.base.NodeOutput object at 0x7fc5126f0610>}, 'component': 'azureml_anonymous:2f16264d-bb74-4e22-ad87-2b9c9bd6dc80', 'referenced_control_flow_node_instance_id': None, 'kwargs': {}, 'instance_id': 'f8bcf0e8-85c5-4d3c-afcc-83e31b7b4279', 'source': 'REMOTE.WORKSPACE.COMPONENT', 'validate_required_input_not_provided': True, 'task': {'type': 'run_function', 'code': '/subscriptions/e02ff02a-3d3d-4fa7-828d-54c7d1f4899f/resourceGroups/aauki_eli_demos/providers/Microsoft.MachineLearningServices/workspaces/aauki_eli_demos_amlws01/codes/8589256a-b9e0-4493-8759-21ba25c4e4ee/versions/1', 'entry_script': 'parallel_bird_models.py', 'program_arguments': '--input_data ${{inputs.input_data}} --output_folder ${{outputs.job_output_folder}} ', 'environment': '/subscriptions/e02ff02a-3d3d-4fa7-828d-54c7d1f4899f/resourceGroups/aauki_eli_demos/providers/Microsoft.MachineLearningServices/workspaces/aauki_eli_demos_amlws01/environments/CliV2AnonymousEnvironment/versions/5e46ce8c6ade419c1edbcfe1515155fa'}, 'mini_batch_size': None, 'partition_keys': None, 'input_data': '${{inputs.input_data}}', 'retry_settings': {'timeout': 60, 'max_retries': 2}, 'logging_level': 'DEBUG', 'max_concurrency_per_instance': 2, 'error_threshold': -1, 'mini_batch_error_threshold': 10, 'resources': {'instance_count': 3}, 'environment_variables': {'AZUREML_PARALLEL_EXAMPLE': 'notebook'}})}, 'job_types': {'command': 1, 'parallel': 1}, 'job_sources': {'REMOTE.WORKSPACE.COMPONENT': 2}, 'source_job_id': None}), 'type': 'pipeline', 'status': 'Preparing', 'log_files': None, 'name': 'joyful_wing_9kzl8mxtq9', 'description': None, 'tags': {}, 'properties': {'mlflow.source.git.repoURL': 'https://elikling@dev.azure.com/elikling/EliADO/_git/azure_machine_learning', 'mlflow.source.git.branch': 'Explore/BirdModel', 'mlflow.source.git.commit': '37a986e4fe990f0bc0119a005fcf0e5f986be971', 'azureml.git.dirty': 'True', 'azureml.DevPlatv2': 'true', 'azureml.DatasetAccessMode': 'Asset', 'azureml.runsource': 'azureml.PipelineRun', 'runSource': 'MFE', 'runType': 'HTTP', 'azureml.parameters': '{}', 'azureml.continue_on_step_failure': 'True', 'azureml.continue_on_failed_optional_input': 'True', 'azureml.enforceRerun': 'True', 'azureml.defaultComputeName': 'aml-eli-cluster-strong', 'azureml.defaultDataStoreName': 'workspaceblobstore', 'azureml.pipelineComponent': 'pipelinerun'}, 'print_as_yaml': True, 'id': '/subscriptions/e02ff02a-3d3d-4fa7-828d-54c7d1f4899f/resourceGroups/aauki_eli_demos/providers/Microsoft.MachineLearningServices/workspaces/aauki_eli_demos_amlws01/jobs/joyful_wing_9kzl8mxtq9', 'Resource__source_path': None, 'base_path': '/mnt/batch/tasks/shared/LS_root/mounts/clusters/uki-aai-eli-aml01/code/Users/eli.kling/ado/azure_machine_learning/Exploration/bird_model/pipelines', 'creation_context': <azure.ai.ml.entities._system_data.SystemData object at 0x7fc5126f04c0>, 'serialize': <msrest.serialization.Serializer object at 0x7fc5126f0130>, 'display_name': 'parallel job for many bird model scenarios', 'experiment_name': 'Notebook-parallel-job', 'compute': None, 'services': {'Tracking': {'endpoint': 'azureml://uksouth.api.azureml.ms/mlflow/v1.0/subscriptions/e02ff02a-3d3d-4fa7-828d-54c7d1f4899f/resourceGroups/aauki_eli_demos/providers/Microsoft.MachineLearningServices/workspaces/aauki_eli_demos_amlws01?', 'type': 'Tracking'}, 'Studio': {'endpoint': 'https://ml.azure.com/runs/joyful_wing_9kzl8mxtq9?wsid=/subscriptions/e02ff02a-3d3d-4fa7-828d-54c7d1f4899f/resourcegroups/aauki_eli_demos/workspaces/aauki_eli_demos_amlws01&tid=b1ca6599-0d75-4087-b9db-4d1109790aac', 'type': 'Studio'}}, 'settings': {}, 'identity': None, 'default_code': None, 'default_environment': None})"
            ]
          },
          "execution_count": 26,
          "metadata": {},
          "output_type": "execute_result"
        }
      ],
      "source": [
        "pipeline_job = ml_client.jobs.create_or_update(\n",
        "    my_job,\n",
        "    experiment_name=\"Notebook-parallel-job\",\n",
        ")\n",
        "pipeline_job"
      ]
    },
    {
      "cell_type": "code",
      "execution_count": 27,
      "metadata": {
        "name": "stream-pipeline"
      },
      "outputs": [
        {
          "name": "stdout",
          "output_type": "stream",
          "text": [
            "RunId: joyful_wing_9kzl8mxtq9\n",
            "Web View: https://ml.azure.com/runs/joyful_wing_9kzl8mxtq9?wsid=/subscriptions/e02ff02a-3d3d-4fa7-828d-54c7d1f4899f/resourcegroups/aauki_eli_demos/workspaces/aauki_eli_demos_amlws01\n",
            "\n",
            "Streaming logs/azureml/executionlogs.txt\n",
            "========================================\n",
            "\n",
            "[2024-03-10 11:58:19Z] Submitting 1 runs, first five are: c7cdc814:e3aa2b7e-9a0e-410e-9026-da0345f0c88d\n",
            "[2024-03-10 12:04:21Z] Completing processing run id e3aa2b7e-9a0e-410e-9026-da0345f0c88d.\n",
            "[2024-03-10 12:04:21Z] Submitting 1 runs, first five are: b0cc04af:348fd0e7-0920-4451-90c1-c735a83cbe27\n",
            "[2024-03-10 12:10:30Z] Completing processing run id 348fd0e7-0920-4451-90c1-c735a83cbe27.\n",
            "\n",
            "Execution Summary\n",
            "=================\n",
            "RunId: joyful_wing_9kzl8mxtq9\n",
            "Web View: https://ml.azure.com/runs/joyful_wing_9kzl8mxtq9?wsid=/subscriptions/e02ff02a-3d3d-4fa7-828d-54c7d1f4899f/resourcegroups/aauki_eli_demos/workspaces/aauki_eli_demos_amlws01\n",
            "\n"
          ]
        }
      ],
      "source": [
        "# wait until the job completes\n",
        "ml_client.jobs.stream(pipeline_job.name)"
      ]
    }
  ],
  "metadata": {
    "categories": [
      "SDK v2",
      "sdk",
      "python",
      "jobs",
      "parallel"
    ],
    "description": {
      "description": "Create pipeline with parallel node to do batch inference"
    },
    "kernel_info": {
      "name": "python3"
    },
    "kernelspec": {
      "display_name": "Python 3.10 - SDK v2",
      "language": "python",
      "name": "python310-sdkv2"
    },
    "microsoft": {
      "host": {
        "AzureML": {
          "notebookHasBeenCompleted": true
        }
      }
    },
    "nteract": {
      "version": "nteract-front-end@1.0.0"
    },
    "vscode": {
      "interpreter": {
        "hash": "f1648a01f415a15976454e88ab551f1eeb39d06522c1fdad5697f49923f4699e"
      }
    }
  },
  "nbformat": 4,
  "nbformat_minor": 0
}
