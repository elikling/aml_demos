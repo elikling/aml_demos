{
 "cells": [
  {
   "cell_type": "code",
   "execution_count": null,
   "metadata": {},
   "outputs": [],
   "source": [
    "from azureml.core import Workspace, Model\n",
    "\n",
    "# Load the workspace from the saved config file\n",
    "ws = Workspace.from_config()\n",
    "\n",
    "# Get all models in the model registry\n",
    "models = Model.list(ws)\n",
    "\n",
    "# Loop through each model and delete it\n",
    "for model in models:\n",
    "    print(f\"<<< Deleting model {model.name} >>>\")\n",
    "    try:\n",
    "        model.delete()\n",
    "        print(f\"Model {model.name} deleted.\")\n",
    "    except Exception as e:\n",
    "        print(f\"Failed to delete model {model.name}: {e}\")\n",
    "print(\"All models deleted.\")\n"
   ]
  }
 ],
 "metadata": {
  "kernelspec": {
   "display_name": "azureml_py310_sdkv2",
   "language": "python",
   "name": "python3"
  },
  "language_info": {
   "codemirror_mode": {
    "name": "ipython",
    "version": 3
   },
   "file_extension": ".py",
   "mimetype": "text/x-python",
   "name": "python",
   "nbconvert_exporter": "python",
   "pygments_lexer": "ipython3",
   "version": "3.10.14"
  }
 },
 "nbformat": 4,
 "nbformat_minor": 2
}
